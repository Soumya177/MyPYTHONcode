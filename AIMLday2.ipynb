{
 "cells": [
  {
   "cell_type": "markdown",
   "id": "64ac106d",
   "metadata": {},
   "source": [
    "# libraries"
   ]
  },
  {
   "cell_type": "markdown",
   "id": "8a8e23bc",
   "metadata": {},
   "source": [
    "# 1.numpy"
   ]
  },
  {
   "cell_type": "code",
   "execution_count": 1,
   "id": "8f180d88",
   "metadata": {},
   "outputs": [],
   "source": [
    "import numpy as np"
   ]
  },
  {
   "cell_type": "code",
   "execution_count": 2,
   "id": "3c42f622",
   "metadata": {},
   "outputs": [
    {
     "data": {
      "text/plain": [
       "array([36, 56, 89, 25])"
      ]
     },
     "execution_count": 2,
     "metadata": {},
     "output_type": "execute_result"
    }
   ],
   "source": [
    "#creating array 1D\n",
    "a1=np.array([36,56,89,25])\n",
    "a1"
   ]
  },
  {
   "cell_type": "code",
   "execution_count": 3,
   "id": "075bdb48",
   "metadata": {},
   "outputs": [
    {
     "data": {
      "text/plain": [
       "array([ 72, 112, 178,  39])"
      ]
     },
     "execution_count": 3,
     "metadata": {},
     "output_type": "execute_result"
    }
   ],
   "source": [
    "a1=np.array([36,56,89,25])\n",
    "a2=np.array([36,56,89,14])\n",
    "a1+a2"
   ]
  },
  {
   "cell_type": "code",
   "execution_count": 5,
   "id": "a6854ec5",
   "metadata": {},
   "outputs": [
    {
     "data": {
      "text/plain": [
       "array([[1., 1., 1.],\n",
       "       [1., 1., 1.]])"
      ]
     },
     "execution_count": 5,
     "metadata": {},
     "output_type": "execute_result"
    }
   ],
   "source": [
    "#intrensic creation of array\n",
    "a3=np.ones((2,3))\n",
    "a3"
   ]
  },
  {
   "cell_type": "code",
   "execution_count": 6,
   "id": "ac297d00",
   "metadata": {},
   "outputs": [
    {
     "data": {
      "text/plain": [
       "array([[0., 0., 0., 0.],\n",
       "       [0., 0., 0., 0.],\n",
       "       [0., 0., 0., 0.],\n",
       "       [0., 0., 0., 0.]])"
      ]
     },
     "execution_count": 6,
     "metadata": {},
     "output_type": "execute_result"
    }
   ],
   "source": [
    "a4=np.zeros((4,4))\n",
    "a4"
   ]
  },
  {
   "cell_type": "code",
   "execution_count": 7,
   "id": "19cda561",
   "metadata": {},
   "outputs": [
    {
     "data": {
      "text/plain": [
       "array([[1., 0., 0.],\n",
       "       [0., 1., 0.],\n",
       "       [0., 0., 1.]])"
      ]
     },
     "execution_count": 7,
     "metadata": {},
     "output_type": "execute_result"
    }
   ],
   "source": [
    "a5=np.eye(3)\n",
    "a5"
   ]
  },
  {
   "cell_type": "code",
   "execution_count": 8,
   "id": "b9e506a6",
   "metadata": {},
   "outputs": [
    {
     "data": {
      "text/plain": [
       "array([0, 1, 2, 3, 4, 5])"
      ]
     },
     "execution_count": 8,
     "metadata": {},
     "output_type": "execute_result"
    }
   ],
   "source": [
    "a6=np.arange(6)\n",
    "a6"
   ]
  },
  {
   "cell_type": "code",
   "execution_count": 9,
   "id": "e09129c5",
   "metadata": {},
   "outputs": [
    {
     "data": {
      "text/plain": [
       "array([ 6,  7,  8,  9, 10, 11, 12, 13, 14, 15, 16, 17, 18, 19, 20, 21, 22,\n",
       "       23, 24, 25, 26, 27, 28, 29])"
      ]
     },
     "execution_count": 9,
     "metadata": {},
     "output_type": "execute_result"
    }
   ],
   "source": [
    "a6=np.arange(6,30)\n",
    "a6"
   ]
  },
  {
   "cell_type": "code",
   "execution_count": 10,
   "id": "bb79a628",
   "metadata": {},
   "outputs": [
    {
     "data": {
      "text/plain": [
       "array([ 6,  8, 10, 12, 14, 16, 18, 20, 22, 24, 26, 28])"
      ]
     },
     "execution_count": 10,
     "metadata": {},
     "output_type": "execute_result"
    }
   ],
   "source": [
    "a6=np.arange(6,30,2)  #start ,stop, step\n",
    "a6"
   ]
  },
  {
   "cell_type": "code",
   "execution_count": 12,
   "id": "8e23a372",
   "metadata": {},
   "outputs": [
    {
     "data": {
      "text/plain": [
       "array([   8,   16,   24,   32,   40,   48,   56,   64,   72,   80,   88,\n",
       "         96,  104,  112,  120,  128,  136,  144,  152,  160,  168,  176,\n",
       "        184,  192,  200,  208,  216,  224,  232,  240,  248,  256,  264,\n",
       "        272,  280,  288,  296,  304,  312,  320,  328,  336,  344,  352,\n",
       "        360,  368,  376,  384,  392,  400,  408,  416,  424,  432,  440,\n",
       "        448,  456,  464,  472,  480,  488,  496,  504,  512,  520,  528,\n",
       "        536,  544,  552,  560,  568,  576,  584,  592,  600,  608,  616,\n",
       "        624,  632,  640,  648,  656,  664,  672,  680,  688,  696,  704,\n",
       "        712,  720,  728,  736,  744,  752,  760,  768,  776,  784,  792,\n",
       "        800,  808,  816,  824,  832,  840,  848,  856,  864,  872,  880,\n",
       "        888,  896,  904,  912,  920,  928,  936,  944,  952,  960,  968,\n",
       "        976,  984,  992, 1000])"
      ]
     },
     "execution_count": 12,
     "metadata": {},
     "output_type": "execute_result"
    }
   ],
   "source": [
    "a6=np.arange(8,1001,8)   #multiple of 8\n",
    "a6"
   ]
  },
  {
   "cell_type": "code",
   "execution_count": 16,
   "id": "377fda63",
   "metadata": {},
   "outputs": [
    {
     "data": {
      "text/plain": [
       "2"
      ]
     },
     "execution_count": 16,
     "metadata": {},
     "output_type": "execute_result"
    }
   ],
   "source": [
    "np.ndim(a4)"
   ]
  },
  {
   "cell_type": "code",
   "execution_count": 15,
   "id": "300b8cc8",
   "metadata": {},
   "outputs": [
    {
     "data": {
      "text/plain": [
       "(4, 4)"
      ]
     },
     "execution_count": 15,
     "metadata": {},
     "output_type": "execute_result"
    }
   ],
   "source": [
    "np.shape(a4)"
   ]
  },
  {
   "cell_type": "code",
   "execution_count": 18,
   "id": "e2883260",
   "metadata": {},
   "outputs": [
    {
     "data": {
      "text/plain": [
       "array([[3, 4, 5],\n",
       "       [1, 2, 3],\n",
       "       [5, 9, 6]])"
      ]
     },
     "execution_count": 18,
     "metadata": {},
     "output_type": "execute_result"
    }
   ],
   "source": [
    "#array 2D\n",
    "a1=np.array([[3,4,5],[1,2,3],[5,9,6]])\n",
    "a1"
   ]
  },
  {
   "cell_type": "code",
   "execution_count": 19,
   "id": "cd24e52d",
   "metadata": {},
   "outputs": [
    {
     "name": "stdout",
     "output_type": "stream",
     "text": [
      "[[3 4 5]\n",
      " [1 2 3]\n",
      " [5 9 6]]\n"
     ]
    }
   ],
   "source": [
    "print(a1)"
   ]
  },
  {
   "cell_type": "code",
   "execution_count": 25,
   "id": "e3aec763",
   "metadata": {},
   "outputs": [
    {
     "name": "stdout",
     "output_type": "stream",
     "text": [
      "[[[3 4 5]\n",
      "  [1 2 3]\n",
      "  [5 9 6]]\n",
      "\n",
      " [[3 4 5]\n",
      "  [1 2 3]\n",
      "  [5 9 6]]]\n"
     ]
    }
   ],
   "source": [
    "a9=np.array([[[3,4,5],[1,2,3],[5,9,6]],[[3,4,5],[1,2,3],[5,9,6]]])\n",
    "print(a9)"
   ]
  },
  {
   "cell_type": "markdown",
   "id": "f8365074",
   "metadata": {},
   "source": [
    "# statistics"
   ]
  },
  {
   "cell_type": "code",
   "execution_count": 26,
   "id": "b35e507b",
   "metadata": {},
   "outputs": [],
   "source": [
    "m=np.array([56,85,62,65,85,65])"
   ]
  },
  {
   "cell_type": "code",
   "execution_count": 28,
   "id": "0556cc26",
   "metadata": {},
   "outputs": [
    {
     "data": {
      "text/plain": [
       "69.66666666666667"
      ]
     },
     "execution_count": 28,
     "metadata": {},
     "output_type": "execute_result"
    }
   ],
   "source": [
    "Avg=np.mean(m)\n",
    "Avg"
   ]
  },
  {
   "cell_type": "code",
   "execution_count": 29,
   "id": "3e1ca7ce",
   "metadata": {},
   "outputs": [
    {
     "data": {
      "text/plain": [
       "65.0"
      ]
     },
     "execution_count": 29,
     "metadata": {},
     "output_type": "execute_result"
    }
   ],
   "source": [
    "med=np.median(m)\n",
    "med"
   ]
  },
  {
   "cell_type": "code",
   "execution_count": 30,
   "id": "0e0c5438",
   "metadata": {},
   "outputs": [
    {
     "data": {
      "text/plain": [
       "11.249691353790803"
      ]
     },
     "execution_count": 30,
     "metadata": {},
     "output_type": "execute_result"
    }
   ],
   "source": [
    "sd=np.std(m)\n",
    "sd"
   ]
  },
  {
   "cell_type": "code",
   "execution_count": 31,
   "id": "d20b604e",
   "metadata": {},
   "outputs": [
    {
     "data": {
      "text/plain": [
       "126.55555555555556"
      ]
     },
     "execution_count": 31,
     "metadata": {},
     "output_type": "execute_result"
    }
   ],
   "source": [
    "v=np.var(m)\n",
    "v"
   ]
  },
  {
   "cell_type": "markdown",
   "id": "81103c22",
   "metadata": {},
   "source": [
    "# RANDOM  "
   ]
  },
  {
   "cell_type": "code",
   "execution_count": 32,
   "id": "c2b30451",
   "metadata": {},
   "outputs": [],
   "source": [
    "from numpy import random as rd   #subpakage of numpy"
   ]
  },
  {
   "cell_type": "code",
   "execution_count": 35,
   "id": "11ebdb63",
   "metadata": {},
   "outputs": [
    {
     "data": {
      "text/plain": [
       "12"
      ]
     },
     "execution_count": 35,
     "metadata": {},
     "output_type": "execute_result"
    }
   ],
   "source": [
    "r1=rd.randint(90)   #give random number\n",
    "r1"
   ]
  },
  {
   "cell_type": "code",
   "execution_count": 36,
   "id": "cc3099f8",
   "metadata": {},
   "outputs": [
    {
     "data": {
      "text/plain": [
       "array([22,  8, 20, 47, 39])"
      ]
     },
     "execution_count": 36,
     "metadata": {},
     "output_type": "execute_result"
    }
   ],
   "source": [
    "r1=rd.randint(90,size=5)  #limit,size\n",
    "r1"
   ]
  },
  {
   "cell_type": "code",
   "execution_count": 38,
   "id": "39fb10f1",
   "metadata": {},
   "outputs": [
    {
     "data": {
      "text/plain": [
       "array([[28, 66, 24, 77],\n",
       "       [31, 29, 64, 34]])"
      ]
     },
     "execution_count": 38,
     "metadata": {},
     "output_type": "execute_result"
    }
   ],
   "source": [
    "r3=rd.randint(100,size=(2,4)) #limit, size, row, column\n",
    "r3"
   ]
  },
  {
   "cell_type": "code",
   "execution_count": 39,
   "id": "417c5461",
   "metadata": {},
   "outputs": [
    {
     "data": {
      "text/plain": [
       "array([0.19732988, 0.9687071 , 0.78287994, 0.39836739, 0.2816366 ,\n",
       "       0.87054214, 0.29792344, 0.62999944, 0.80464394])"
      ]
     },
     "execution_count": 39,
     "metadata": {},
     "output_type": "execute_result"
    }
   ],
   "source": [
    "r4=rd.rand(9)   #0 to 1\n",
    "r4"
   ]
  },
  {
   "cell_type": "code",
   "execution_count": 43,
   "id": "8b3f8900",
   "metadata": {},
   "outputs": [
    {
     "data": {
      "text/plain": [
       "array([[4.48478678, 2.3964812 ],\n",
       "       [8.29999757, 4.20844789],\n",
       "       [6.89876441, 3.02261314],\n",
       "       [3.51011619, 7.18587147],\n",
       "       [6.69664968, 2.65167928],\n",
       "       [0.51875448, 7.55345167],\n",
       "       [8.71278672, 4.33201979],\n",
       "       [3.25774953, 7.93513646],\n",
       "       [6.37900841, 8.31500529]])"
      ]
     },
     "execution_count": 43,
     "metadata": {},
     "output_type": "execute_result"
    }
   ],
   "source": [
    "r5=10*(rd.rand(9,2)) #0 to 1\n",
    "r5"
   ]
  },
  {
   "cell_type": "code",
   "execution_count": 62,
   "id": "59205861",
   "metadata": {},
   "outputs": [
    {
     "data": {
      "text/plain": [
       "array([[44, 47, 64, 67, 67],\n",
       "       [ 9, 83, 21, 36, 87],\n",
       "       [70, 88, 88, 12, 58],\n",
       "       [65, 39, 87, 46, 88]])"
      ]
     },
     "execution_count": 62,
     "metadata": {},
     "output_type": "execute_result"
    }
   ],
   "source": [
    "rd.seed(0)\n",
    "r1=rd.randint(100,size=(4,5))   #give random number\n",
    "r1"
   ]
  },
  {
   "cell_type": "code",
   "execution_count": 66,
   "id": "07e484bb",
   "metadata": {},
   "outputs": [
    {
     "data": {
      "text/plain": [
       "array([[40, 15, 72, 22, 43],\n",
       "       [82, 75,  7, 34, 49],\n",
       "       [95, 75, 85, 47, 63],\n",
       "       [31, 90, 20, 37, 39]])"
      ]
     },
     "execution_count": 66,
     "metadata": {},
     "output_type": "execute_result"
    }
   ],
   "source": [
    "rd.seed(2)\n",
    "r2=rd.randint(100,size=(4,5))   #give random number\n",
    "r2"
   ]
  },
  {
   "cell_type": "markdown",
   "id": "1d470c7f",
   "metadata": {},
   "source": [
    "# stacking "
   ]
  },
  {
   "cell_type": "code",
   "execution_count": 60,
   "id": "ba07837b",
   "metadata": {},
   "outputs": [],
   "source": [
    "#combining two array"
   ]
  },
  {
   "cell_type": "code",
   "execution_count": 67,
   "id": "adfdbe8a",
   "metadata": {},
   "outputs": [
    {
     "name": "stdout",
     "output_type": "stream",
     "text": [
      "[[40 15 72 22 43 40 15 72 22 43]\n",
      " [82 75  7 34 49 82 75  7 34 49]\n",
      " [95 75 85 47 63 95 75 85 47 63]\n",
      " [31 90 20 37 39 31 90 20 37 39]]\n"
     ]
    }
   ],
   "source": [
    "print(np.hstack((r1,r2)))   #horizontal"
   ]
  },
  {
   "cell_type": "code",
   "execution_count": 68,
   "id": "24f2b286",
   "metadata": {},
   "outputs": [
    {
     "name": "stdout",
     "output_type": "stream",
     "text": [
      "[[40 15 72 22 43]\n",
      " [82 75  7 34 49]\n",
      " [95 75 85 47 63]\n",
      " [31 90 20 37 39]\n",
      " [40 15 72 22 43]\n",
      " [82 75  7 34 49]\n",
      " [95 75 85 47 63]\n",
      " [31 90 20 37 39]]\n"
     ]
    }
   ],
   "source": [
    "print(np.vstack((r1,r2)))   #vertical"
   ]
  },
  {
   "cell_type": "code",
   "execution_count": 70,
   "id": "efaf5a6d",
   "metadata": {},
   "outputs": [
    {
     "name": "stdout",
     "output_type": "stream",
     "text": [
      "[40 15 72 22 43 82 75  7 34 49 95 75 85 47 63 31 90 20 37 39]\n"
     ]
    }
   ],
   "source": [
    "print(np.hstack(r1))"
   ]
  },
  {
   "cell_type": "code",
   "execution_count": 69,
   "id": "eedadfae",
   "metadata": {},
   "outputs": [
    {
     "name": "stdout",
     "output_type": "stream",
     "text": [
      "[[40 15 72 22 43]\n",
      " [82 75  7 34 49]\n",
      " [95 75 85 47 63]\n",
      " [31 90 20 37 39]]\n"
     ]
    }
   ],
   "source": [
    "print(np.vstack(r1))"
   ]
  },
  {
   "cell_type": "code",
   "execution_count": 77,
   "id": "33916bc7",
   "metadata": {},
   "outputs": [
    {
     "data": {
      "text/plain": [
       "array([[40, 15, 72, 22, 43, 40, 15, 72, 22, 43],\n",
       "       [82, 75,  7, 34, 49, 82, 75,  7, 34, 49],\n",
       "       [95, 75, 85, 47, 63, 95, 75, 85, 47, 63],\n",
       "       [31, 90, 20, 37, 39, 31, 90, 20, 37, 39]])"
      ]
     },
     "execution_count": 77,
     "metadata": {},
     "output_type": "execute_result"
    }
   ],
   "source": [
    "c=np.hstack((r1,r2))\n",
    "c"
   ]
  },
  {
   "cell_type": "code",
   "execution_count": 78,
   "id": "5654da4a",
   "metadata": {},
   "outputs": [
    {
     "data": {
      "text/plain": [
       "[array([[40, 15],\n",
       "        [82, 75],\n",
       "        [95, 75],\n",
       "        [31, 90]]),\n",
       " array([[72, 22, 43],\n",
       "        [ 7, 34, 49],\n",
       "        [85, 47, 63],\n",
       "        [20, 37, 39]]),\n",
       " array([[40, 15, 72, 22],\n",
       "        [82, 75,  7, 34],\n",
       "        [95, 75, 85, 47],\n",
       "        [31, 90, 20, 37]]),\n",
       " array([[43],\n",
       "        [49],\n",
       "        [63],\n",
       "        [39]])]"
      ]
     },
     "execution_count": 78,
     "metadata": {},
     "output_type": "execute_result"
    }
   ],
   "source": [
    "np.hsplit(c,(2,5,9))"
   ]
  },
  {
   "cell_type": "code",
   "execution_count": 79,
   "id": "65ced668",
   "metadata": {},
   "outputs": [
    {
     "data": {
      "text/plain": [
       "[array([[40, 15],\n",
       "        [82, 75],\n",
       "        [95, 75],\n",
       "        [31, 90]]),\n",
       " array([[72, 22, 43],\n",
       "        [ 7, 34, 49],\n",
       "        [85, 47, 63],\n",
       "        [20, 37, 39]]),\n",
       " array([[40, 15, 72, 22, 43],\n",
       "        [82, 75,  7, 34, 49],\n",
       "        [95, 75, 85, 47, 63],\n",
       "        [31, 90, 20, 37, 39]])]"
      ]
     },
     "execution_count": 79,
     "metadata": {},
     "output_type": "execute_result"
    }
   ],
   "source": [
    "np.hsplit(c,(2,5))"
   ]
  },
  {
   "cell_type": "code",
   "execution_count": 82,
   "id": "6d0813f1",
   "metadata": {},
   "outputs": [
    {
     "data": {
      "text/plain": [
       "array([[26,  8, 76],\n",
       "       [10, 40, 34],\n",
       "       [60,  9, 70],\n",
       "       [86, 70, 19],\n",
       "       [56, 82,  1],\n",
       "       [68, 40, 81],\n",
       "       [61, 70, 97],\n",
       "       [18, 84, 90],\n",
       "       [87, 22, 43]])"
      ]
     },
     "execution_count": 82,
     "metadata": {},
     "output_type": "execute_result"
    }
   ],
   "source": [
    "rd.seed(0)\n",
    "r5=rd.randint(100,size=(9,3))   #give random number\n",
    "r5"
   ]
  },
  {
   "cell_type": "code",
   "execution_count": 90,
   "id": "b1ecccc3",
   "metadata": {},
   "outputs": [
    {
     "data": {
      "text/plain": [
       "[array([[26,  8, 76],\n",
       "        [10, 40, 34],\n",
       "        [60,  9, 70]]),\n",
       " array([[86, 70, 19],\n",
       "        [56, 82,  1]]),\n",
       " array([[68, 40, 81],\n",
       "        [61, 70, 97],\n",
       "        [18, 84, 90],\n",
       "        [87, 22, 43]])]"
      ]
     },
     "execution_count": 90,
     "metadata": {},
     "output_type": "execute_result"
    }
   ],
   "source": [
    "np.vsplit(r5,(3,5))"
   ]
  },
  {
   "cell_type": "code",
   "execution_count": 88,
   "id": "d942c73f",
   "metadata": {},
   "outputs": [
    {
     "data": {
      "text/plain": [
       "[array([[26,  8, 76],\n",
       "        [10, 40, 34],\n",
       "        [60,  9, 70]]),\n",
       " array([[86, 70, 19],\n",
       "        [56, 82,  1],\n",
       "        [68, 40, 81]]),\n",
       " array([[61, 70, 97],\n",
       "        [18, 84, 90],\n",
       "        [87, 22, 43]])]"
      ]
     },
     "execution_count": 88,
     "metadata": {},
     "output_type": "execute_result"
    }
   ],
   "source": [
    "np.vsplit(r5,3)"
   ]
  },
  {
   "cell_type": "code",
   "execution_count": 96,
   "id": "8d757bc0",
   "metadata": {},
   "outputs": [
    {
     "data": {
      "text/plain": [
       "array([1.        , 1.88888889, 2.77777778, 3.66666667, 4.55555556,\n",
       "       5.44444444, 6.33333333, 7.22222222, 8.11111111, 9.        ])"
      ]
     },
     "execution_count": 96,
     "metadata": {},
     "output_type": "execute_result"
    }
   ],
   "source": [
    "np.linspace(1,9,10) #start, end,total numbers"
   ]
  },
  {
   "cell_type": "code",
   "execution_count": 97,
   "id": "cb271b4d",
   "metadata": {},
   "outputs": [
    {
     "data": {
      "text/plain": [
       "array([[40, 15, 72, 22, 43, 40, 15, 72, 22, 43],\n",
       "       [82, 75,  7, 34, 49, 82, 75,  7, 34, 49],\n",
       "       [95, 75, 85, 47, 63, 95, 75, 85, 47, 63],\n",
       "       [31, 90, 20, 37, 39, 31, 90, 20, 37, 39]])"
      ]
     },
     "execution_count": 97,
     "metadata": {},
     "output_type": "execute_result"
    }
   ],
   "source": [
    "c"
   ]
  },
  {
   "cell_type": "code",
   "execution_count": 98,
   "id": "2aacd326",
   "metadata": {},
   "outputs": [
    {
     "data": {
      "text/plain": [
       "array([[40, 15, 72, 22, 43],\n",
       "       [40, 15, 72, 22, 43],\n",
       "       [82, 75,  7, 34, 49],\n",
       "       [82, 75,  7, 34, 49],\n",
       "       [95, 75, 85, 47, 63],\n",
       "       [95, 75, 85, 47, 63],\n",
       "       [31, 90, 20, 37, 39],\n",
       "       [31, 90, 20, 37, 39]])"
      ]
     },
     "execution_count": 98,
     "metadata": {},
     "output_type": "execute_result"
    }
   ],
   "source": [
    "c=c.reshape(8,5)\n",
    "c"
   ]
  },
  {
   "cell_type": "code",
   "execution_count": 100,
   "id": "e68a32ca",
   "metadata": {},
   "outputs": [
    {
     "data": {
      "text/plain": [
       "array([[26,  8, 76],\n",
       "       [10, 40, 34],\n",
       "       [60,  9, 70],\n",
       "       [86, 70, 19],\n",
       "       [56, 82,  1],\n",
       "       [68, 40, 81],\n",
       "       [61, 70, 97],\n",
       "       [18, 84, 90],\n",
       "       [87, 22, 43]])"
      ]
     },
     "execution_count": 100,
     "metadata": {},
     "output_type": "execute_result"
    }
   ],
   "source": [
    "r5"
   ]
  },
  {
   "cell_type": "code",
   "execution_count": 109,
   "id": "25f18a84",
   "metadata": {},
   "outputs": [
    {
     "data": {
      "text/plain": [
       "array([25, 33, 36, 45, 50, 56, 78, 90, 96])"
      ]
     },
     "execution_count": 109,
     "metadata": {},
     "output_type": "execute_result"
    }
   ],
   "source": [
    "s=np.array([50,56,25,96,36,33,45,78,90])\n",
    "np.sort(s)"
   ]
  },
  {
   "cell_type": "code",
   "execution_count": 110,
   "id": "63316cf4",
   "metadata": {},
   "outputs": [
    {
     "data": {
      "text/plain": [
       "(array([1, 3, 7, 8], dtype=int64),)"
      ]
     },
     "execution_count": 110,
     "metadata": {},
     "output_type": "execute_result"
    }
   ],
   "source": [
    "np.where(s>50)"
   ]
  },
  {
   "cell_type": "code",
   "execution_count": 111,
   "id": "b335fd6c",
   "metadata": {},
   "outputs": [
    {
     "data": {
      "text/plain": [
       "(array([8], dtype=int64),)"
      ]
     },
     "execution_count": 111,
     "metadata": {},
     "output_type": "execute_result"
    }
   ],
   "source": [
    "np.where(s==90)"
   ]
  },
  {
   "cell_type": "code",
   "execution_count": 112,
   "id": "a23e2141",
   "metadata": {},
   "outputs": [
    {
     "data": {
      "text/plain": [
       "(array([2, 5, 6], dtype=int64),)"
      ]
     },
     "execution_count": 112,
     "metadata": {},
     "output_type": "execute_result"
    }
   ],
   "source": [
    "np.where(s%2==1) #shows odd number in s"
   ]
  },
  {
   "cell_type": "code",
   "execution_count": 117,
   "id": "eea935d8",
   "metadata": {},
   "outputs": [
    {
     "name": "stdout",
     "output_type": "stream",
     "text": [
      "[50 56 25 96 36 33 45 78 90]\n"
     ]
    },
    {
     "data": {
      "text/plain": [
       "array([         50,        2800,       70000,     6720000,   241920000,\n",
       "        -606574592, -1526052864,  1226960896, -1242669056], dtype=int32)"
      ]
     },
     "execution_count": 117,
     "metadata": {},
     "output_type": "execute_result"
    }
   ],
   "source": [
    "print(s)\n",
    "np.cumprod(s)   #cummulative product"
   ]
  },
  {
   "cell_type": "code",
   "execution_count": 116,
   "id": "6864d5aa",
   "metadata": {},
   "outputs": [
    {
     "name": "stdout",
     "output_type": "stream",
     "text": [
      "[50 56 25 96 36 33 45 78 90]\n"
     ]
    },
    {
     "data": {
      "text/plain": [
       "array([ 50, 106, 131, 227, 263, 296, 341, 419, 509], dtype=int32)"
      ]
     },
     "execution_count": 116,
     "metadata": {},
     "output_type": "execute_result"
    }
   ],
   "source": [
    "print(s)     #cummulative sum\n",
    "np.cumsum(s)"
   ]
  },
  {
   "cell_type": "code",
   "execution_count": 118,
   "id": "10d9ed19",
   "metadata": {},
   "outputs": [
    {
     "data": {
      "text/plain": [
       "array([[9, 0, 7, 1],\n",
       "       [7, 8, 9, 0],\n",
       "       [5, 6, 7, 8]])"
      ]
     },
     "execution_count": 118,
     "metadata": {},
     "output_type": "execute_result"
    }
   ],
   "source": [
    "a10=np.array([[9,0,7,1],[7,8,9,0],[5,6,7,8]])\n",
    "a10"
   ]
  },
  {
   "cell_type": "code",
   "execution_count": 121,
   "id": "109b93e9",
   "metadata": {},
   "outputs": [
    {
     "name": "stdout",
     "output_type": "stream",
     "text": [
      "[[9 0 7 1]\n",
      " [7 8 9 0]\n",
      " [5 6 7 8]]\n"
     ]
    },
    {
     "data": {
      "text/plain": [
       "array([[ 9,  0,  7,  1],\n",
       "       [16,  8, 16,  1],\n",
       "       [21, 14, 23,  9]], dtype=int32)"
      ]
     },
     "execution_count": 121,
     "metadata": {},
     "output_type": "execute_result"
    }
   ],
   "source": [
    "print(a10)\n",
    "np.cumsum(a10,axis=0)   #col wise addition"
   ]
  },
  {
   "cell_type": "code",
   "execution_count": 122,
   "id": "f5e71bd6",
   "metadata": {},
   "outputs": [
    {
     "name": "stdout",
     "output_type": "stream",
     "text": [
      "[[9 0 7 1]\n",
      " [7 8 9 0]\n",
      " [5 6 7 8]]\n"
     ]
    },
    {
     "data": {
      "text/plain": [
       "array([[ 9,  9, 16, 17],\n",
       "       [ 7, 15, 24, 24],\n",
       "       [ 5, 11, 18, 26]], dtype=int32)"
      ]
     },
     "execution_count": 122,
     "metadata": {},
     "output_type": "execute_result"
    }
   ],
   "source": [
    "print(a10)\n",
    "np.cumsum(a10,axis=1)   #row wise addition"
   ]
  },
  {
   "cell_type": "code",
   "execution_count": 123,
   "id": "e1edb306",
   "metadata": {},
   "outputs": [
    {
     "name": "stdout",
     "output_type": "stream",
     "text": [
      "[[9 0 7 1]\n",
      " [7 8 9 0]\n",
      " [5 6 7 8]]\n"
     ]
    },
    {
     "data": {
      "text/plain": [
       "array([[  9,   0,   7,   1],\n",
       "       [ 63,   0,  63,   0],\n",
       "       [315,   0, 441,   0]], dtype=int32)"
      ]
     },
     "execution_count": 123,
     "metadata": {},
     "output_type": "execute_result"
    }
   ],
   "source": [
    "print(a10)\n",
    "np.cumprod(a10,axis=0)"
   ]
  },
  {
   "cell_type": "code",
   "execution_count": 124,
   "id": "9030f85a",
   "metadata": {},
   "outputs": [
    {
     "name": "stdout",
     "output_type": "stream",
     "text": [
      "[[9 0 7 1]\n",
      " [7 8 9 0]\n",
      " [5 6 7 8]]\n"
     ]
    },
    {
     "data": {
      "text/plain": [
       "array([[   9,    0,    0,    0],\n",
       "       [   7,   56,  504,    0],\n",
       "       [   5,   30,  210, 1680]], dtype=int32)"
      ]
     },
     "execution_count": 124,
     "metadata": {},
     "output_type": "execute_result"
    }
   ],
   "source": [
    "print(a10)\n",
    "np.cumprod(a10,axis=1) "
   ]
  },
  {
   "cell_type": "markdown",
   "id": "6a72b6bd",
   "metadata": {},
   "source": [
    "# Matplotlib"
   ]
  },
  {
   "cell_type": "code",
   "execution_count": 127,
   "id": "86b218a7",
   "metadata": {},
   "outputs": [],
   "source": [
    "from matplotlib import pyplot as plt"
   ]
  },
  {
   "cell_type": "code",
   "execution_count": 134,
   "id": "d025ee3a",
   "metadata": {},
   "outputs": [
    {
     "data": {
      "text/plain": [
       "[<matplotlib.lines.Line2D at 0x1e06772e160>]"
      ]
     },
     "execution_count": 134,
     "metadata": {},
     "output_type": "execute_result"
    },
    {
     "data": {
      "image/png": "[encoded data removed]",
      "text/plain": [
       "<Figure size 640x480 with 1 Axes>"
      ]
     },
     "metadata": {},
     "output_type": "display_data"
    }
   ],
   "source": [
    "x=[1,2,3,4]\n",
    "y=[5,6,7,8]\n",
    "plt.plot(x,y)"
   ]
  },
  {
   "cell_type": "code",
   "execution_count": 131,
   "id": "526641d9",
   "metadata": {},
   "outputs": [
    {
     "data": {
      "text/plain": [
       "[<matplotlib.lines.Line2D at 0x1e06762fbb0>]"
      ]
     },
     "execution_count": 131,
     "metadata": {},
     "output_type": "execute_result"
    },
    {
     "data": {
      "image/png": "[encoded data removed]",
      "text/plain": [
       "<Figure size 640x480 with 1 Axes>"
      ]
     },
     "metadata": {},
     "output_type": "display_data"
    }
   ],
   "source": [
    "x=[1,2,3,4,]\n",
    "y=[33,45,15,56]\n",
    "plt.plot(x,y)"
   ]
  },
  {
   "cell_type": "code",
   "execution_count": 157,
   "id": "5a3ae8a2",
   "metadata": {},
   "outputs": [
    {
     "data": {
      "text/plain": [
       "[<matplotlib.lines.Line2D at 0x1e068e782b0>]"
      ]
     },
     "execution_count": 157,
     "metadata": {},
     "output_type": "execute_result"
    },
    {
     "data": {
      "image/png": "[encoded data removed]",
      "text/plain": [
       "<Figure size 640x480 with 1 Axes>"
      ]
     },
     "metadata": {},
     "output_type": "display_data"
    }
   ],
   "source": [
    "x=[\"maths\",'science','kannada','english']\n",
    "y=[3,5,5,6]\n",
    "plt.plot(x,y,color='purple',linestyle='--',linewidth=3,marker='P')"
   ]
  },
  {
   "cell_type": "code",
   "execution_count": 160,
   "id": "31a0b1d9",
   "metadata": {},
   "outputs": [
    {
     "data": {
      "text/plain": [
       "Text(0, 0.5, 'marks')"
      ]
     },
     "execution_count": 160,
     "metadata": {},
     "output_type": "execute_result"
    },
    {
     "data": {
      "image/png": "[encoded data removed]",
      "text/plain": [
       "<Figure size 640x480 with 1 Axes>"
      ]
     },
     "metadata": {},
     "output_type": "display_data"
    }
   ],
   "source": [
    "sub=[\"maths\",'science','kannada','english']\n",
    "stu1=[90,60,50,90]\n",
    "stu2=[36,45,88,90]\n",
    "plt.plot(sub,stu1,color='purple',linestyle='--',linewidth=3,marker='P',label='soumya')\n",
    "plt.plot(sub,stu2,color='pink',linestyle='-',linewidth=2,marker='D',label='arya')\n",
    "plt.legend()\n",
    "plt.title(\"soumya vs arya\")\n",
    "plt.xlabel(\"subjects\")\n",
    "plt.ylabel(\"marks\")"
   ]
  },
  {
   "cell_type": "code",
   "execution_count": 168,
   "id": "30ded9f7",
   "metadata": {},
   "outputs": [
    {
     "data": {
      "text/plain": [
       "Text(0, 0.5, 'marks')"
      ]
     },
     "execution_count": 168,
     "metadata": {},
     "output_type": "execute_result"
    },
    {
     "data": {
      "image/png": "[encoded data removed]",
      "text/plain": [
       "<Figure size 640x480 with 1 Axes>"
      ]
     },
     "metadata": {},
     "output_type": "display_data"
    }
   ],
   "source": [
    "sub=[\"maths\",'science','kannada','english']\n",
    "stu1=[70,60,90,80]\n",
    "stu2=[36,45,58,70]\n",
    "plt.bar(sub,stu1,color='purple',label='soumya')\n",
    "plt.bar(sub,stu2,color='pink',label='arya')\n",
    "plt.legend()\n",
    "plt.title(\"soumya vs arya\")\n",
    "plt.xlabel(\"subjects\")\n",
    "plt.ylabel(\"marks\")"
   ]
  },
  {
   "cell_type": "code",
   "execution_count": 169,
   "id": "7c9d0603",
   "metadata": {},
   "outputs": [
    {
     "data": {
      "text/plain": [
       "([<matplotlib.patches.Wedge at 0x1e06a055130>,\n",
       "  <matplotlib.patches.Wedge at 0x1e06a055640>,\n",
       "  <matplotlib.patches.Wedge at 0x1e06a055b20>,\n",
       "  <matplotlib.patches.Wedge at 0x1e06a060040>,\n",
       "  <matplotlib.patches.Wedge at 0x1e06a060400>],\n",
       " [Text(0.7385954170390806, 0.8151544699803017, 'python'),\n",
       "  Text(-0.8899187180267095, 0.6465637441936395, 'aiml'),\n",
       "  Text(-0.9992272095058164, -0.4599401958768331, 'java'),\n",
       "  Text(-0.4363892180041478, -1.0097348416340444, 'maths'),\n",
       "  Text(0.8186087467359406, -0.7347650779449256, 'numpy')])"
      ]
     },
     "execution_count": 169,
     "metadata": {},
     "output_type": "execute_result"
    },
    {
     "data": {
      "image/png": "[encoded data removed]",
      "text/plain": [
       "<Figure size 640x480 with 1 Axes>"
      ]
     },
     "metadata": {},
     "output_type": "display_data"
    }
   ],
   "source": [
    "subj=['python','aiml','java','maths','numpy']\n",
    "val=[89,90,23,55,78]\n",
    "plt.pie(val,labels=subj)"
   ]
  },
  {
   "cell_type": "code",
   "execution_count": 176,
   "id": "cf023006",
   "metadata": {},
   "outputs": [
    {
     "data": {
      "text/plain": [
       "([<matplotlib.patches.Wedge at 0x1e06b131100>,\n",
       "  <matplotlib.patches.Wedge at 0x1e06b1315e0>,\n",
       "  <matplotlib.patches.Wedge at 0x1e06b131ac0>,\n",
       "  <matplotlib.patches.Wedge at 0x1e06b131fa0>,\n",
       "  <matplotlib.patches.Wedge at 0x1e06b13b4c0>],\n",
       " [Text(0.8456875373323633, 0.8513592597727018, 'python'),\n",
       "  Text(-0.436187748418178, 1.00982188931013, 'aiml'),\n",
       "  Text(-0.9883150241353968, 0.4829424531641945, 'java'),\n",
       "  Text(-1.0815136031930346, -0.7213378723652459, 'maths'),\n",
       "  Text(0.6759393302176948, -0.8678168135412302, 'numpy')])"
      ]
     },
     "execution_count": 176,
     "metadata": {},
     "output_type": "execute_result"
    },
    {
     "data": {
      "image/png": "[encoded data removed]",
      "text/plain": [
       "<Figure size 640x480 with 1 Axes>"
      ]
     },
     "metadata": {},
     "output_type": "display_data"
    }
   ],
   "source": [
    "subj=['python','aiml','java','maths','numpy']\n",
    "val=[59,30,23,55,68]\n",
    "ex=[0.1,0,0,0.2,0]\n",
    "plt.pie(val,labels=subj,explode=ex)"
   ]
  },
  {
   "cell_type": "code",
   "execution_count": 177,
   "id": "37ac2276",
   "metadata": {},
   "outputs": [
    {
     "data": {
      "text/plain": [
       "([<matplotlib.patches.Wedge at 0x1e06b16ce20>,\n",
       "  <matplotlib.patches.Wedge at 0x1e06b179340>,\n",
       "  <matplotlib.patches.Wedge at 0x1e06b179850>,\n",
       "  <matplotlib.patches.Wedge at 0x1e06b179d30>,\n",
       "  <matplotlib.patches.Wedge at 0x1e06b183250>],\n",
       " [Text(-0.7385954170390806, -0.8151544699803017, 'python'),\n",
       "  Text(0.8899187180267094, -0.6465637441936395, 'aiml'),\n",
       "  Text(0.9992272095058161, 0.45994019587683344, 'java'),\n",
       "  Text(0.436389218004148, 1.0097348416340441, 'maths'),\n",
       "  Text(-0.8186087467359406, 0.7347650779449257, 'numpy')])"
      ]
     },
     "execution_count": 177,
     "metadata": {},
     "output_type": "execute_result"
    },
    {
     "data": {
      "image/png": "[encoded data removed]",
      "text/plain": [
       "<Figure size 640x480 with 1 Axes>"
      ]
     },
     "metadata": {},
     "output_type": "display_data"
    }
   ],
   "source": [
    "subj=['python','aiml','java','maths','numpy']\n",
    "val=[89,90,23,55,78]\n",
    "#ex=[0,0,0.10,0,0]\n",
    "plt.pie(val,labels=subj,startangle=180)"
   ]
  },
  {
   "cell_type": "code",
   "execution_count": 182,
   "id": "161f9a00",
   "metadata": {},
   "outputs": [
    {
     "data": {
      "text/plain": [
       "[<matplotlib.lines.Line2D at 0x1e06b38a7c0>]"
      ]
     },
     "execution_count": 182,
     "metadata": {},
     "output_type": "execute_result"
    },
    {
     "data": {
      "image/png": "[encoded data removed]",
      "text/plain": [
       "<Figure size 640x480 with 1 Axes>"
      ]
     },
     "metadata": {},
     "output_type": "display_data"
    }
   ],
   "source": [
    "x=[1,2,3,4,]\n",
    "y=[33,45,15,56]\n",
    "plt.scatter(x,y)\n",
    "plt.plot(x,y,color='black',linestyle='--',linewidth=1,marker='P',label='soumya')\n",
    "#plt.plot(sub,stu2,color='pink',linestyle='-',linewidth=2,marker='D',label='arya')"
   ]
  },
  {
   "cell_type": "markdown",
   "id": "21b4917b",
   "metadata": {},
   "source": [
    "the scroces bitween india vs austrelia for every 5 overs are given india have completed his batting all 50 overs and austrelia completed 25 overs  create a line plot with proper x label ylabel and lengend \n",
    "\n",
    "runs->india       25,51,84,131,160,189,220,250,267,287\n",
    "runs->austrelia   15,41,94,110,151"
   ]
  },
  {
   "cell_type": "code",
   "execution_count": 190,
   "id": "37a61056",
   "metadata": {},
   "outputs": [
    {
     "data": {
      "text/plain": [
       "Text(0, 0.5, 'runs')"
      ]
     },
     "execution_count": 190,
     "metadata": {},
     "output_type": "execute_result"
    },
    {
     "data": {
      "image/png": "[encoded data removed]",
      "text/plain": [
       "<Figure size 640x480 with 1 Axes>"
      ]
     },
     "metadata": {},
     "output_type": "display_data"
    }
   ],
   "source": [
    "overs=np.arange(5,51,5)\n",
    "overs1=np.arange(5,26,5)\n",
    "india=[25,51,84,131,160,189,220,250,267,287]\n",
    "aus=[15,41,94,110,151]\n",
    "plt.plot(overs,india,color='purple',linestyle='--',linewidth=3,marker='P',label='india')\n",
    "plt.plot(overs1,aus,color='pink',linestyle='-',linewidth=2,marker='D',label='aus')\n",
    "plt.legend()\n",
    "plt.title(\"india vs austrelia\")\n",
    "plt.xlabel(\"overs\")\n",
    "plt.ylabel(\"runs\")"
   ]
  },
  {
   "cell_type": "markdown",
   "id": "b5a16e57",
   "metadata": {},
   "source": [
    "# pandas"
   ]
  },
  {
   "cell_type": "code",
   "execution_count": 2,
   "id": "907b5d33",
   "metadata": {},
   "outputs": [],
   "source": [
    "import pandas as pd"
   ]
  },
  {
   "cell_type": "code",
   "execution_count": 4,
   "id": "306620b6",
   "metadata": {},
   "outputs": [
    {
     "data": {
      "text/plain": [
       "1    deepak\n",
       "2      ravi\n",
       "3      yash\n",
       "4      ammu\n",
       "dtype: object"
      ]
     },
     "execution_count": 4,
     "metadata": {},
     "output_type": "execute_result"
    }
   ],
   "source": [
    "val=['deepak','ravi','yash','ammu']   #allow duplicates\n",
    "ind=[1,2,3,4]\n",
    "s=pd.Series(val,index=ind)\n",
    "s"
   ]
  },
  {
   "cell_type": "code",
   "execution_count": 3,
   "id": "6eb13914",
   "metadata": {},
   "outputs": [
    {
     "data": {
      "text/plain": [
       "1    deepak\n",
       "2      ravi\n",
       "3      yash\n",
       "3      ammu\n",
       "dtype: object"
      ]
     },
     "execution_count": 3,
     "metadata": {},
     "output_type": "execute_result"
    }
   ],
   "source": [
    "val=['deepak','ravi','yash','ammu']\n",
    "ind=[1,2,3,3]\n",
    "s=pd.Series(val,index=ind)\n",
    "s"
   ]
  },
  {
   "cell_type": "code",
   "execution_count": 12,
   "id": "239cb142",
   "metadata": {},
   "outputs": [
    {
     "data": {
      "text/plain": [
       "1    rishi\n",
       "2     yash\n",
       "3     yash\n",
       "4     ammu\n",
       "dtype: object"
      ]
     },
     "execution_count": 12,
     "metadata": {},
     "output_type": "execute_result"
    }
   ],
   "source": [
    "val=['rishi','yash','yash','ammu']\n",
    "ind=[1,2,3,4]\n",
    "s=pd.Series(val,index=ind)\n",
    "s"
   ]
  },
  {
   "cell_type": "code",
   "execution_count": 11,
   "id": "2511e360",
   "metadata": {},
   "outputs": [
    {
     "data": {
      "text/html": [
       "<div>\n",
       "<style scoped>\n",
       "    .dataframe tbody tr th:only-of-type {\n",
       "        vertical-align: middle;\n",
       "    }\n",
       "\n",
       "    .dataframe tbody tr th {\n",
       "        vertical-align: top;\n",
       "    }\n",
       "\n",
       "    .dataframe thead th {\n",
       "        text-align: right;\n",
       "    }\n",
       "</style>\n",
       "<table border=\"1\" class=\"dataframe\">\n",
       "  <thead>\n",
       "    <tr style=\"text-align: right;\">\n",
       "      <th></th>\n",
       "      <th>Names</th>\n",
       "      <th>Marks</th>\n",
       "      <th>Grade</th>\n",
       "    </tr>\n",
       "  </thead>\n",
       "  <tbody>\n",
       "  </tbody>\n",
       "</table>\n",
       "</div>"
      ],
      "text/plain": [
       "Empty DataFrame\n",
       "Columns: [Names, Marks, Grade]\n",
       "Index: []"
      ]
     },
     "execution_count": 11,
     "metadata": {},
     "output_type": "execute_result"
    }
   ],
   "source": [
    "mydf=pd.DataFrame(columns=['Names','Marks','Grade'])\n",
    "mydf"
   ]
  },
  {
   "cell_type": "code",
   "execution_count": 13,
   "id": "5148bea0",
   "metadata": {},
   "outputs": [],
   "source": [
    "N=['soumya','sneha','anjali','adithya','suma']\n",
    "M=[90,99,98,97,96]\n",
    "G=['A','A','A','A','A']\n"
   ]
  },
  {
   "cell_type": "code",
   "execution_count": 17,
   "id": "0514d45a",
   "metadata": {},
   "outputs": [
    {
     "data": {
      "text/html": [
       "<div>\n",
       "<style scoped>\n",
       "    .dataframe tbody tr th:only-of-type {\n",
       "        vertical-align: middle;\n",
       "    }\n",
       "\n",
       "    .dataframe tbody tr th {\n",
       "        vertical-align: top;\n",
       "    }\n",
       "\n",
       "    .dataframe thead th {\n",
       "        text-align: right;\n",
       "    }\n",
       "</style>\n",
       "<table border=\"1\" class=\"dataframe\">\n",
       "  <thead>\n",
       "    <tr style=\"text-align: right;\">\n",
       "      <th></th>\n",
       "      <th>Names</th>\n",
       "      <th>Marks</th>\n",
       "      <th>Grade</th>\n",
       "      <th>Grades</th>\n",
       "    </tr>\n",
       "  </thead>\n",
       "  <tbody>\n",
       "    <tr>\n",
       "      <th>0</th>\n",
       "      <td>soumya</td>\n",
       "      <td>90</td>\n",
       "      <td>A</td>\n",
       "      <td>A</td>\n",
       "    </tr>\n",
       "    <tr>\n",
       "      <th>1</th>\n",
       "      <td>sneha</td>\n",
       "      <td>99</td>\n",
       "      <td>A</td>\n",
       "      <td>A</td>\n",
       "    </tr>\n",
       "    <tr>\n",
       "      <th>2</th>\n",
       "      <td>anjali</td>\n",
       "      <td>98</td>\n",
       "      <td>A</td>\n",
       "      <td>A</td>\n",
       "    </tr>\n",
       "    <tr>\n",
       "      <th>3</th>\n",
       "      <td>adithya</td>\n",
       "      <td>97</td>\n",
       "      <td>A</td>\n",
       "      <td>A</td>\n",
       "    </tr>\n",
       "    <tr>\n",
       "      <th>4</th>\n",
       "      <td>suma</td>\n",
       "      <td>96</td>\n",
       "      <td>A</td>\n",
       "      <td>A</td>\n",
       "    </tr>\n",
       "  </tbody>\n",
       "</table>\n",
       "</div>"
      ],
      "text/plain": [
       "     Names  Marks Grade Grades\n",
       "0   soumya     90     A      A\n",
       "1    sneha     99     A      A\n",
       "2   anjali     98     A      A\n",
       "3  adithya     97     A      A\n",
       "4     suma     96     A      A"
      ]
     },
     "execution_count": 17,
     "metadata": {},
     "output_type": "execute_result"
    }
   ],
   "source": [
    "mydf['Names']=N\n",
    "mydf['Marks']=M\n",
    "mydf['Grade']=G\n",
    "mydf"
   ]
  },
  {
   "cell_type": "code",
   "execution_count": 18,
   "id": "4a8a9647",
   "metadata": {},
   "outputs": [],
   "source": [
    "mydf.to_csv('demo.csv')"
   ]
  },
  {
   "cell_type": "code",
   "execution_count": 19,
   "id": "083107ae",
   "metadata": {},
   "outputs": [],
   "source": [
    "dfcsv=pd.read_csv(r\"C:\\Users\\ssaro\\Downloads\\diabetcsv.csv\")"
   ]
  },
  {
   "cell_type": "code",
   "execution_count": 20,
   "id": "2156c8eb",
   "metadata": {},
   "outputs": [
    {
     "data": {
      "text/html": [
       "<div>\n",
       "<style scoped>\n",
       "    .dataframe tbody tr th:only-of-type {\n",
       "        vertical-align: middle;\n",
       "    }\n",
       "\n",
       "    .dataframe tbody tr th {\n",
       "        vertical-align: top;\n",
       "    }\n",
       "\n",
       "    .dataframe thead th {\n",
       "        text-align: right;\n",
       "    }\n",
       "</style>\n",
       "<table border=\"1\" class=\"dataframe\">\n",
       "  <thead>\n",
       "    <tr style=\"text-align: right;\">\n",
       "      <th></th>\n",
       "      <th>preg</th>\n",
       "      <th>plas</th>\n",
       "      <th>pres</th>\n",
       "      <th>skin</th>\n",
       "      <th>insu</th>\n",
       "      <th>mass</th>\n",
       "      <th>pedi</th>\n",
       "      <th>age</th>\n",
       "      <th>class</th>\n",
       "    </tr>\n",
       "  </thead>\n",
       "  <tbody>\n",
       "    <tr>\n",
       "      <th>0</th>\n",
       "      <td>6</td>\n",
       "      <td>148</td>\n",
       "      <td>72</td>\n",
       "      <td>35</td>\n",
       "      <td>0</td>\n",
       "      <td>33.6</td>\n",
       "      <td>0.627</td>\n",
       "      <td>50</td>\n",
       "      <td>tested_positive</td>\n",
       "    </tr>\n",
       "    <tr>\n",
       "      <th>1</th>\n",
       "      <td>1</td>\n",
       "      <td>85</td>\n",
       "      <td>66</td>\n",
       "      <td>29</td>\n",
       "      <td>0</td>\n",
       "      <td>26.6</td>\n",
       "      <td>0.351</td>\n",
       "      <td>31</td>\n",
       "      <td>tested_negative</td>\n",
       "    </tr>\n",
       "    <tr>\n",
       "      <th>2</th>\n",
       "      <td>8</td>\n",
       "      <td>183</td>\n",
       "      <td>64</td>\n",
       "      <td>0</td>\n",
       "      <td>0</td>\n",
       "      <td>23.3</td>\n",
       "      <td>0.672</td>\n",
       "      <td>32</td>\n",
       "      <td>tested_positive</td>\n",
       "    </tr>\n",
       "    <tr>\n",
       "      <th>3</th>\n",
       "      <td>1</td>\n",
       "      <td>89</td>\n",
       "      <td>66</td>\n",
       "      <td>23</td>\n",
       "      <td>94</td>\n",
       "      <td>28.1</td>\n",
       "      <td>0.167</td>\n",
       "      <td>21</td>\n",
       "      <td>tested_negative</td>\n",
       "    </tr>\n",
       "    <tr>\n",
       "      <th>4</th>\n",
       "      <td>0</td>\n",
       "      <td>137</td>\n",
       "      <td>40</td>\n",
       "      <td>35</td>\n",
       "      <td>168</td>\n",
       "      <td>43.1</td>\n",
       "      <td>2.288</td>\n",
       "      <td>33</td>\n",
       "      <td>tested_positive</td>\n",
       "    </tr>\n",
       "    <tr>\n",
       "      <th>...</th>\n",
       "      <td>...</td>\n",
       "      <td>...</td>\n",
       "      <td>...</td>\n",
       "      <td>...</td>\n",
       "      <td>...</td>\n",
       "      <td>...</td>\n",
       "      <td>...</td>\n",
       "      <td>...</td>\n",
       "      <td>...</td>\n",
       "    </tr>\n",
       "    <tr>\n",
       "      <th>763</th>\n",
       "      <td>10</td>\n",
       "      <td>101</td>\n",
       "      <td>76</td>\n",
       "      <td>48</td>\n",
       "      <td>180</td>\n",
       "      <td>32.9</td>\n",
       "      <td>0.171</td>\n",
       "      <td>63</td>\n",
       "      <td>tested_negative</td>\n",
       "    </tr>\n",
       "    <tr>\n",
       "      <th>764</th>\n",
       "      <td>2</td>\n",
       "      <td>122</td>\n",
       "      <td>70</td>\n",
       "      <td>27</td>\n",
       "      <td>0</td>\n",
       "      <td>36.8</td>\n",
       "      <td>0.340</td>\n",
       "      <td>27</td>\n",
       "      <td>tested_negative</td>\n",
       "    </tr>\n",
       "    <tr>\n",
       "      <th>765</th>\n",
       "      <td>5</td>\n",
       "      <td>121</td>\n",
       "      <td>72</td>\n",
       "      <td>23</td>\n",
       "      <td>112</td>\n",
       "      <td>26.2</td>\n",
       "      <td>0.245</td>\n",
       "      <td>30</td>\n",
       "      <td>tested_negative</td>\n",
       "    </tr>\n",
       "    <tr>\n",
       "      <th>766</th>\n",
       "      <td>1</td>\n",
       "      <td>126</td>\n",
       "      <td>60</td>\n",
       "      <td>0</td>\n",
       "      <td>0</td>\n",
       "      <td>30.1</td>\n",
       "      <td>0.349</td>\n",
       "      <td>47</td>\n",
       "      <td>tested_positive</td>\n",
       "    </tr>\n",
       "    <tr>\n",
       "      <th>767</th>\n",
       "      <td>1</td>\n",
       "      <td>93</td>\n",
       "      <td>70</td>\n",
       "      <td>31</td>\n",
       "      <td>0</td>\n",
       "      <td>30.4</td>\n",
       "      <td>0.315</td>\n",
       "      <td>23</td>\n",
       "      <td>tested_negative</td>\n",
       "    </tr>\n",
       "  </tbody>\n",
       "</table>\n",
       "<p>768 rows × 9 columns</p>\n",
       "</div>"
      ],
      "text/plain": [
       "     preg  plas  pres  skin  insu  mass   pedi  age            class\n",
       "0       6   148    72    35     0  33.6  0.627   50  tested_positive\n",
       "1       1    85    66    29     0  26.6  0.351   31  tested_negative\n",
       "2       8   183    64     0     0  23.3  0.672   32  tested_positive\n",
       "3       1    89    66    23    94  28.1  0.167   21  tested_negative\n",
       "4       0   137    40    35   168  43.1  2.288   33  tested_positive\n",
       "..    ...   ...   ...   ...   ...   ...    ...  ...              ...\n",
       "763    10   101    76    48   180  32.9  0.171   63  tested_negative\n",
       "764     2   122    70    27     0  36.8  0.340   27  tested_negative\n",
       "765     5   121    72    23   112  26.2  0.245   30  tested_negative\n",
       "766     1   126    60     0     0  30.1  0.349   47  tested_positive\n",
       "767     1    93    70    31     0  30.4  0.315   23  tested_negative\n",
       "\n",
       "[768 rows x 9 columns]"
      ]
     },
     "execution_count": 20,
     "metadata": {},
     "output_type": "execute_result"
    }
   ],
   "source": [
    "dfcsv"
   ]
  },
  {
   "cell_type": "code",
   "execution_count": 22,
   "id": "64f68178",
   "metadata": {},
   "outputs": [],
   "source": [
    "dfex=pd.read_excel(r\"C:\\Users\\ssaro\\Downloads\\diabetes.xlsx\")"
   ]
  },
  {
   "cell_type": "code",
   "execution_count": 23,
   "id": "4056f4ba",
   "metadata": {},
   "outputs": [
    {
     "data": {
      "text/html": [
       "<div>\n",
       "<style scoped>\n",
       "    .dataframe tbody tr th:only-of-type {\n",
       "        vertical-align: middle;\n",
       "    }\n",
       "\n",
       "    .dataframe tbody tr th {\n",
       "        vertical-align: top;\n",
       "    }\n",
       "\n",
       "    .dataframe thead th {\n",
       "        text-align: right;\n",
       "    }\n",
       "</style>\n",
       "<table border=\"1\" class=\"dataframe\">\n",
       "  <thead>\n",
       "    <tr style=\"text-align: right;\">\n",
       "      <th></th>\n",
       "      <th>preg</th>\n",
       "      <th>plas</th>\n",
       "      <th>pres</th>\n",
       "      <th>skin</th>\n",
       "      <th>insu</th>\n",
       "      <th>mass</th>\n",
       "      <th>pedi</th>\n",
       "      <th>age</th>\n",
       "      <th>class</th>\n",
       "    </tr>\n",
       "  </thead>\n",
       "  <tbody>\n",
       "    <tr>\n",
       "      <th>0</th>\n",
       "      <td>6</td>\n",
       "      <td>148</td>\n",
       "      <td>72</td>\n",
       "      <td>35</td>\n",
       "      <td>0</td>\n",
       "      <td>33.6</td>\n",
       "      <td>0.627</td>\n",
       "      <td>50</td>\n",
       "      <td>tested_positive</td>\n",
       "    </tr>\n",
       "    <tr>\n",
       "      <th>1</th>\n",
       "      <td>1</td>\n",
       "      <td>85</td>\n",
       "      <td>66</td>\n",
       "      <td>29</td>\n",
       "      <td>0</td>\n",
       "      <td>26.6</td>\n",
       "      <td>0.351</td>\n",
       "      <td>31</td>\n",
       "      <td>tested_negative</td>\n",
       "    </tr>\n",
       "    <tr>\n",
       "      <th>2</th>\n",
       "      <td>8</td>\n",
       "      <td>183</td>\n",
       "      <td>64</td>\n",
       "      <td>0</td>\n",
       "      <td>0</td>\n",
       "      <td>23.3</td>\n",
       "      <td>0.672</td>\n",
       "      <td>32</td>\n",
       "      <td>tested_positive</td>\n",
       "    </tr>\n",
       "    <tr>\n",
       "      <th>3</th>\n",
       "      <td>1</td>\n",
       "      <td>89</td>\n",
       "      <td>66</td>\n",
       "      <td>23</td>\n",
       "      <td>94</td>\n",
       "      <td>28.1</td>\n",
       "      <td>0.167</td>\n",
       "      <td>21</td>\n",
       "      <td>tested_negative</td>\n",
       "    </tr>\n",
       "    <tr>\n",
       "      <th>4</th>\n",
       "      <td>0</td>\n",
       "      <td>137</td>\n",
       "      <td>40</td>\n",
       "      <td>35</td>\n",
       "      <td>168</td>\n",
       "      <td>43.1</td>\n",
       "      <td>2.288</td>\n",
       "      <td>33</td>\n",
       "      <td>tested_positive</td>\n",
       "    </tr>\n",
       "    <tr>\n",
       "      <th>...</th>\n",
       "      <td>...</td>\n",
       "      <td>...</td>\n",
       "      <td>...</td>\n",
       "      <td>...</td>\n",
       "      <td>...</td>\n",
       "      <td>...</td>\n",
       "      <td>...</td>\n",
       "      <td>...</td>\n",
       "      <td>...</td>\n",
       "    </tr>\n",
       "    <tr>\n",
       "      <th>763</th>\n",
       "      <td>10</td>\n",
       "      <td>101</td>\n",
       "      <td>76</td>\n",
       "      <td>48</td>\n",
       "      <td>180</td>\n",
       "      <td>32.9</td>\n",
       "      <td>0.171</td>\n",
       "      <td>63</td>\n",
       "      <td>tested_negative</td>\n",
       "    </tr>\n",
       "    <tr>\n",
       "      <th>764</th>\n",
       "      <td>2</td>\n",
       "      <td>122</td>\n",
       "      <td>70</td>\n",
       "      <td>27</td>\n",
       "      <td>0</td>\n",
       "      <td>36.8</td>\n",
       "      <td>0.340</td>\n",
       "      <td>27</td>\n",
       "      <td>tested_negative</td>\n",
       "    </tr>\n",
       "    <tr>\n",
       "      <th>765</th>\n",
       "      <td>5</td>\n",
       "      <td>121</td>\n",
       "      <td>72</td>\n",
       "      <td>23</td>\n",
       "      <td>112</td>\n",
       "      <td>26.2</td>\n",
       "      <td>0.245</td>\n",
       "      <td>30</td>\n",
       "      <td>tested_negative</td>\n",
       "    </tr>\n",
       "    <tr>\n",
       "      <th>766</th>\n",
       "      <td>1</td>\n",
       "      <td>126</td>\n",
       "      <td>60</td>\n",
       "      <td>0</td>\n",
       "      <td>0</td>\n",
       "      <td>30.1</td>\n",
       "      <td>0.349</td>\n",
       "      <td>47</td>\n",
       "      <td>tested_positive</td>\n",
       "    </tr>\n",
       "    <tr>\n",
       "      <th>767</th>\n",
       "      <td>1</td>\n",
       "      <td>93</td>\n",
       "      <td>70</td>\n",
       "      <td>31</td>\n",
       "      <td>0</td>\n",
       "      <td>30.4</td>\n",
       "      <td>0.315</td>\n",
       "      <td>23</td>\n",
       "      <td>tested_negative</td>\n",
       "    </tr>\n",
       "  </tbody>\n",
       "</table>\n",
       "<p>768 rows × 9 columns</p>\n",
       "</div>"
      ],
      "text/plain": [
       "     preg  plas  pres  skin  insu  mass   pedi  age            class\n",
       "0       6   148    72    35     0  33.6  0.627   50  tested_positive\n",
       "1       1    85    66    29     0  26.6  0.351   31  tested_negative\n",
       "2       8   183    64     0     0  23.3  0.672   32  tested_positive\n",
       "3       1    89    66    23    94  28.1  0.167   21  tested_negative\n",
       "4       0   137    40    35   168  43.1  2.288   33  tested_positive\n",
       "..    ...   ...   ...   ...   ...   ...    ...  ...              ...\n",
       "763    10   101    76    48   180  32.9  0.171   63  tested_negative\n",
       "764     2   122    70    27     0  36.8  0.340   27  tested_negative\n",
       "765     5   121    72    23   112  26.2  0.245   30  tested_negative\n",
       "766     1   126    60     0     0  30.1  0.349   47  tested_positive\n",
       "767     1    93    70    31     0  30.4  0.315   23  tested_negative\n",
       "\n",
       "[768 rows x 9 columns]"
      ]
     },
     "execution_count": 23,
     "metadata": {},
     "output_type": "execute_result"
    }
   ],
   "source": [
    "dfex"
   ]
  },
  {
   "cell_type": "code",
   "execution_count": 24,
   "id": "1cf85c2c",
   "metadata": {},
   "outputs": [
    {
     "data": {
      "text/html": [
       "<div>\n",
       "<style scoped>\n",
       "    .dataframe tbody tr th:only-of-type {\n",
       "        vertical-align: middle;\n",
       "    }\n",
       "\n",
       "    .dataframe tbody tr th {\n",
       "        vertical-align: top;\n",
       "    }\n",
       "\n",
       "    .dataframe thead th {\n",
       "        text-align: right;\n",
       "    }\n",
       "</style>\n",
       "<table border=\"1\" class=\"dataframe\">\n",
       "  <thead>\n",
       "    <tr style=\"text-align: right;\">\n",
       "      <th></th>\n",
       "      <th>Names Initials SEM1 SEM2 SEM3 Grade Placed</th>\n",
       "    </tr>\n",
       "  </thead>\n",
       "  <tbody>\n",
       "    <tr>\n",
       "      <th>0</th>\n",
       "      <td>Joe K 9.8 10 9.9 A+ 1</td>\n",
       "    </tr>\n",
       "    <tr>\n",
       "      <th>1</th>\n",
       "      <td>Rajesh M 8.9 9.1 9.3 A 1</td>\n",
       "    </tr>\n",
       "    <tr>\n",
       "      <th>2</th>\n",
       "      <td>Kissan V 9.9 9.8 10 A 0</td>\n",
       "    </tr>\n",
       "    <tr>\n",
       "      <th>3</th>\n",
       "      <td>Mary N 7.7 8 NaN B 0</td>\n",
       "    </tr>\n",
       "    <tr>\n",
       "      <th>4</th>\n",
       "      <td>Jeen K 9.8 9.1 9.9 A+ 1</td>\n",
       "    </tr>\n",
       "    <tr>\n",
       "      <th>5</th>\n",
       "      <td>Raj M 8.9 9.1 9.3 A 1</td>\n",
       "    </tr>\n",
       "    <tr>\n",
       "      <th>6</th>\n",
       "      <td>Hassan V 9.9 9 9.2 A 1</td>\n",
       "    </tr>\n",
       "    <tr>\n",
       "      <th>7</th>\n",
       "      <td>Mari N 7.7 8 7.1 B 1</td>\n",
       "    </tr>\n",
       "    <tr>\n",
       "      <th>8</th>\n",
       "      <td>Jess K NaN 9.1 9.9 A+ 1</td>\n",
       "    </tr>\n",
       "    <tr>\n",
       "      <th>9</th>\n",
       "      <td>Rajini M NaN 9.1 9.3 A 0</td>\n",
       "    </tr>\n",
       "    <tr>\n",
       "      <th>10</th>\n",
       "      <td>Kiran V NaN 9.3 9.2 A 0</td>\n",
       "    </tr>\n",
       "    <tr>\n",
       "      <th>11</th>\n",
       "      <td>Maya N 7.7 8 7.1 B 0</td>\n",
       "    </tr>\n",
       "    <tr>\n",
       "      <th>12</th>\n",
       "      <td>Jolin K 9.8 9.1 9.9 A+ 1</td>\n",
       "    </tr>\n",
       "    <tr>\n",
       "      <th>13</th>\n",
       "      <td>Rajesh M 8.9 9.1 9.3 A 1</td>\n",
       "    </tr>\n",
       "    <tr>\n",
       "      <th>14</th>\n",
       "      <td>Riya M 9.3 9.9 10 A 1</td>\n",
       "    </tr>\n",
       "    <tr>\n",
       "      <th>15</th>\n",
       "      <td>Sana V 9.9 9.3 9.2 A 0</td>\n",
       "    </tr>\n",
       "    <tr>\n",
       "      <th>16</th>\n",
       "      <td>Mark N 7.7 8 7 B 0</td>\n",
       "    </tr>\n",
       "  </tbody>\n",
       "</table>\n",
       "</div>"
      ],
      "text/plain": [
       "   Names Initials SEM1 SEM2 SEM3 Grade Placed\n",
       "0                       Joe K 9.8 10 9.9 A+ 1\n",
       "1                   Rajesh M 8.9 9.1 9.3 A 1 \n",
       "2                     Kissan V 9.9 9.8 10 A 0\n",
       "3                        Mary N 7.7 8 NaN B 0\n",
       "4                     Jeen K 9.8 9.1 9.9 A+ 1\n",
       "5                       Raj M 8.9 9.1 9.3 A 1\n",
       "6                      Hassan V 9.9 9 9.2 A 1\n",
       "7                        Mari N 7.7 8 7.1 B 1\n",
       "8                     Jess K NaN 9.1 9.9 A+ 1\n",
       "9                    Rajini M NaN 9.1 9.3 A 0\n",
       "10                    Kiran V NaN 9.3 9.2 A 0\n",
       "11                       Maya N 7.7 8 7.1 B 0\n",
       "12                   Jolin K 9.8 9.1 9.9 A+ 1\n",
       "13                   Rajesh M 8.9 9.1 9.3 A 1\n",
       "14                      Riya M 9.3 9.9 10 A 1\n",
       "15                     Sana V 9.9 9.3 9.2 A 0\n",
       "16                         Mark N 7.7 8 7 B 0"
      ]
     },
     "execution_count": 24,
     "metadata": {},
     "output_type": "execute_result"
    }
   ],
   "source": [
    "dftxt=pd.read_csv(r\"C:\\Users\\ssaro\\Downloads\\grades_withnulls.txt\")\n",
    "dftxt"
   ]
  },
  {
   "cell_type": "code",
   "execution_count": 25,
   "id": "493dee98",
   "metadata": {},
   "outputs": [
    {
     "data": {
      "text/html": [
       "<div>\n",
       "<style scoped>\n",
       "    .dataframe tbody tr th:only-of-type {\n",
       "        vertical-align: middle;\n",
       "    }\n",
       "\n",
       "    .dataframe tbody tr th {\n",
       "        vertical-align: top;\n",
       "    }\n",
       "\n",
       "    .dataframe thead th {\n",
       "        text-align: right;\n",
       "    }\n",
       "</style>\n",
       "<table border=\"1\" class=\"dataframe\">\n",
       "  <thead>\n",
       "    <tr style=\"text-align: right;\">\n",
       "      <th></th>\n",
       "      <th>preg</th>\n",
       "      <th>plas</th>\n",
       "      <th>pres</th>\n",
       "      <th>skin</th>\n",
       "      <th>insu</th>\n",
       "      <th>mass</th>\n",
       "      <th>pedi</th>\n",
       "      <th>age</th>\n",
       "    </tr>\n",
       "  </thead>\n",
       "  <tbody>\n",
       "    <tr>\n",
       "      <th>count</th>\n",
       "      <td>768.000000</td>\n",
       "      <td>768.000000</td>\n",
       "      <td>768.000000</td>\n",
       "      <td>768.000000</td>\n",
       "      <td>768.000000</td>\n",
       "      <td>768.000000</td>\n",
       "      <td>768.000000</td>\n",
       "      <td>768.000000</td>\n",
       "    </tr>\n",
       "    <tr>\n",
       "      <th>mean</th>\n",
       "      <td>3.845052</td>\n",
       "      <td>120.894531</td>\n",
       "      <td>69.105469</td>\n",
       "      <td>20.536458</td>\n",
       "      <td>79.799479</td>\n",
       "      <td>31.992578</td>\n",
       "      <td>0.471876</td>\n",
       "      <td>33.240885</td>\n",
       "    </tr>\n",
       "    <tr>\n",
       "      <th>std</th>\n",
       "      <td>3.369578</td>\n",
       "      <td>31.972618</td>\n",
       "      <td>19.355807</td>\n",
       "      <td>15.952218</td>\n",
       "      <td>115.244002</td>\n",
       "      <td>7.884160</td>\n",
       "      <td>0.331329</td>\n",
       "      <td>11.760232</td>\n",
       "    </tr>\n",
       "    <tr>\n",
       "      <th>min</th>\n",
       "      <td>0.000000</td>\n",
       "      <td>0.000000</td>\n",
       "      <td>0.000000</td>\n",
       "      <td>0.000000</td>\n",
       "      <td>0.000000</td>\n",
       "      <td>0.000000</td>\n",
       "      <td>0.078000</td>\n",
       "      <td>21.000000</td>\n",
       "    </tr>\n",
       "    <tr>\n",
       "      <th>25%</th>\n",
       "      <td>1.000000</td>\n",
       "      <td>99.000000</td>\n",
       "      <td>62.000000</td>\n",
       "      <td>0.000000</td>\n",
       "      <td>0.000000</td>\n",
       "      <td>27.300000</td>\n",
       "      <td>0.243750</td>\n",
       "      <td>24.000000</td>\n",
       "    </tr>\n",
       "    <tr>\n",
       "      <th>50%</th>\n",
       "      <td>3.000000</td>\n",
       "      <td>117.000000</td>\n",
       "      <td>72.000000</td>\n",
       "      <td>23.000000</td>\n",
       "      <td>30.500000</td>\n",
       "      <td>32.000000</td>\n",
       "      <td>0.372500</td>\n",
       "      <td>29.000000</td>\n",
       "    </tr>\n",
       "    <tr>\n",
       "      <th>75%</th>\n",
       "      <td>6.000000</td>\n",
       "      <td>140.250000</td>\n",
       "      <td>80.000000</td>\n",
       "      <td>32.000000</td>\n",
       "      <td>127.250000</td>\n",
       "      <td>36.600000</td>\n",
       "      <td>0.626250</td>\n",
       "      <td>41.000000</td>\n",
       "    </tr>\n",
       "    <tr>\n",
       "      <th>max</th>\n",
       "      <td>17.000000</td>\n",
       "      <td>199.000000</td>\n",
       "      <td>122.000000</td>\n",
       "      <td>99.000000</td>\n",
       "      <td>846.000000</td>\n",
       "      <td>67.100000</td>\n",
       "      <td>2.420000</td>\n",
       "      <td>81.000000</td>\n",
       "    </tr>\n",
       "  </tbody>\n",
       "</table>\n",
       "</div>"
      ],
      "text/plain": [
       "             preg        plas        pres        skin        insu        mass  \\\n",
       "count  768.000000  768.000000  768.000000  768.000000  768.000000  768.000000   \n",
       "mean     3.845052  120.894531   69.105469   20.536458   79.799479   31.992578   \n",
       "std      3.369578   31.972618   19.355807   15.952218  115.244002    7.884160   \n",
       "min      0.000000    0.000000    0.000000    0.000000    0.000000    0.000000   \n",
       "25%      1.000000   99.000000   62.000000    0.000000    0.000000   27.300000   \n",
       "50%      3.000000  117.000000   72.000000   23.000000   30.500000   32.000000   \n",
       "75%      6.000000  140.250000   80.000000   32.000000  127.250000   36.600000   \n",
       "max     17.000000  199.000000  122.000000   99.000000  846.000000   67.100000   \n",
       "\n",
       "             pedi         age  \n",
       "count  768.000000  768.000000  \n",
       "mean     0.471876   33.240885  \n",
       "std      0.331329   11.760232  \n",
       "min      0.078000   21.000000  \n",
       "25%      0.243750   24.000000  \n",
       "50%      0.372500   29.000000  \n",
       "75%      0.626250   41.000000  \n",
       "max      2.420000   81.000000  "
      ]
     },
     "execution_count": 25,
     "metadata": {},
     "output_type": "execute_result"
    }
   ],
   "source": [
    "dfex.describe()"
   ]
  },
  {
   "cell_type": "code",
   "execution_count": 28,
   "id": "7b4bef0c",
   "metadata": {},
   "outputs": [
    {
     "data": {
      "text/html": [
       "<div>\n",
       "<style scoped>\n",
       "    .dataframe tbody tr th:only-of-type {\n",
       "        vertical-align: middle;\n",
       "    }\n",
       "\n",
       "    .dataframe tbody tr th {\n",
       "        vertical-align: top;\n",
       "    }\n",
       "\n",
       "    .dataframe thead th {\n",
       "        text-align: right;\n",
       "    }\n",
       "</style>\n",
       "<table border=\"1\" class=\"dataframe\">\n",
       "  <thead>\n",
       "    <tr style=\"text-align: right;\">\n",
       "      <th></th>\n",
       "      <th>Names</th>\n",
       "      <th>Initials</th>\n",
       "      <th>SEM1</th>\n",
       "      <th>SEM2</th>\n",
       "      <th>SEM3</th>\n",
       "      <th>Grade</th>\n",
       "      <th>Placed</th>\n",
       "    </tr>\n",
       "  </thead>\n",
       "  <tbody>\n",
       "    <tr>\n",
       "      <th>0</th>\n",
       "      <td>Joe</td>\n",
       "      <td>K</td>\n",
       "      <td>9.8</td>\n",
       "      <td>10.0</td>\n",
       "      <td>9.9</td>\n",
       "      <td>A+</td>\n",
       "      <td>1</td>\n",
       "    </tr>\n",
       "    <tr>\n",
       "      <th>1</th>\n",
       "      <td>Rajesh</td>\n",
       "      <td>M</td>\n",
       "      <td>8.9</td>\n",
       "      <td>9.1</td>\n",
       "      <td>9.3</td>\n",
       "      <td>A</td>\n",
       "      <td>1</td>\n",
       "    </tr>\n",
       "    <tr>\n",
       "      <th>2</th>\n",
       "      <td>Kissan</td>\n",
       "      <td>V</td>\n",
       "      <td>9.9</td>\n",
       "      <td>9.8</td>\n",
       "      <td>10.0</td>\n",
       "      <td>A</td>\n",
       "      <td>0</td>\n",
       "    </tr>\n",
       "    <tr>\n",
       "      <th>3</th>\n",
       "      <td>Mary</td>\n",
       "      <td>N</td>\n",
       "      <td>7.7</td>\n",
       "      <td>8.0</td>\n",
       "      <td>NaN</td>\n",
       "      <td>B</td>\n",
       "      <td>0</td>\n",
       "    </tr>\n",
       "    <tr>\n",
       "      <th>4</th>\n",
       "      <td>Jeen</td>\n",
       "      <td>K</td>\n",
       "      <td>9.8</td>\n",
       "      <td>9.1</td>\n",
       "      <td>9.9</td>\n",
       "      <td>A+</td>\n",
       "      <td>1</td>\n",
       "    </tr>\n",
       "    <tr>\n",
       "      <th>5</th>\n",
       "      <td>Raj</td>\n",
       "      <td>M</td>\n",
       "      <td>8.9</td>\n",
       "      <td>9.1</td>\n",
       "      <td>9.3</td>\n",
       "      <td>A</td>\n",
       "      <td>1</td>\n",
       "    </tr>\n",
       "    <tr>\n",
       "      <th>6</th>\n",
       "      <td>Hassan</td>\n",
       "      <td>V</td>\n",
       "      <td>9.9</td>\n",
       "      <td>9.0</td>\n",
       "      <td>9.2</td>\n",
       "      <td>A</td>\n",
       "      <td>1</td>\n",
       "    </tr>\n",
       "    <tr>\n",
       "      <th>7</th>\n",
       "      <td>Mari</td>\n",
       "      <td>N</td>\n",
       "      <td>7.7</td>\n",
       "      <td>8.0</td>\n",
       "      <td>7.1</td>\n",
       "      <td>B</td>\n",
       "      <td>1</td>\n",
       "    </tr>\n",
       "    <tr>\n",
       "      <th>8</th>\n",
       "      <td>Jess</td>\n",
       "      <td>K</td>\n",
       "      <td>NaN</td>\n",
       "      <td>9.1</td>\n",
       "      <td>9.9</td>\n",
       "      <td>A+</td>\n",
       "      <td>1</td>\n",
       "    </tr>\n",
       "    <tr>\n",
       "      <th>9</th>\n",
       "      <td>Rajini</td>\n",
       "      <td>M</td>\n",
       "      <td>NaN</td>\n",
       "      <td>9.1</td>\n",
       "      <td>9.3</td>\n",
       "      <td>A</td>\n",
       "      <td>0</td>\n",
       "    </tr>\n",
       "    <tr>\n",
       "      <th>10</th>\n",
       "      <td>Kiran</td>\n",
       "      <td>V</td>\n",
       "      <td>NaN</td>\n",
       "      <td>9.3</td>\n",
       "      <td>9.2</td>\n",
       "      <td>A</td>\n",
       "      <td>0</td>\n",
       "    </tr>\n",
       "    <tr>\n",
       "      <th>11</th>\n",
       "      <td>Maya</td>\n",
       "      <td>N</td>\n",
       "      <td>7.7</td>\n",
       "      <td>8.0</td>\n",
       "      <td>7.1</td>\n",
       "      <td>B</td>\n",
       "      <td>0</td>\n",
       "    </tr>\n",
       "    <tr>\n",
       "      <th>12</th>\n",
       "      <td>Jolin</td>\n",
       "      <td>K</td>\n",
       "      <td>9.8</td>\n",
       "      <td>9.1</td>\n",
       "      <td>9.9</td>\n",
       "      <td>A+</td>\n",
       "      <td>1</td>\n",
       "    </tr>\n",
       "    <tr>\n",
       "      <th>13</th>\n",
       "      <td>Rajesh</td>\n",
       "      <td>M</td>\n",
       "      <td>8.9</td>\n",
       "      <td>9.1</td>\n",
       "      <td>9.3</td>\n",
       "      <td>A</td>\n",
       "      <td>1</td>\n",
       "    </tr>\n",
       "    <tr>\n",
       "      <th>14</th>\n",
       "      <td>Riya</td>\n",
       "      <td>M</td>\n",
       "      <td>9.3</td>\n",
       "      <td>9.9</td>\n",
       "      <td>10.0</td>\n",
       "      <td>A</td>\n",
       "      <td>1</td>\n",
       "    </tr>\n",
       "    <tr>\n",
       "      <th>15</th>\n",
       "      <td>Sana</td>\n",
       "      <td>V</td>\n",
       "      <td>9.9</td>\n",
       "      <td>9.3</td>\n",
       "      <td>9.2</td>\n",
       "      <td>A</td>\n",
       "      <td>0</td>\n",
       "    </tr>\n",
       "    <tr>\n",
       "      <th>16</th>\n",
       "      <td>Mark</td>\n",
       "      <td>N</td>\n",
       "      <td>7.7</td>\n",
       "      <td>8.0</td>\n",
       "      <td>7.0</td>\n",
       "      <td>B</td>\n",
       "      <td>0</td>\n",
       "    </tr>\n",
       "  </tbody>\n",
       "</table>\n",
       "</div>"
      ],
      "text/plain": [
       "     Names Initials  SEM1  SEM2  SEM3 Grade  Placed\n",
       "0      Joe        K   9.8  10.0   9.9    A+       1\n",
       "1   Rajesh        M   8.9   9.1   9.3     A       1\n",
       "2   Kissan        V   9.9   9.8  10.0     A       0\n",
       "3     Mary        N   7.7   8.0   NaN     B       0\n",
       "4     Jeen        K   9.8   9.1   9.9    A+       1\n",
       "5      Raj        M   8.9   9.1   9.3     A       1\n",
       "6   Hassan        V   9.9   9.0   9.2     A       1\n",
       "7     Mari        N   7.7   8.0   7.1     B       1\n",
       "8     Jess        K   NaN   9.1   9.9    A+       1\n",
       "9   Rajini        M   NaN   9.1   9.3     A       0\n",
       "10   Kiran        V   NaN   9.3   9.2     A       0\n",
       "11    Maya        N   7.7   8.0   7.1     B       0\n",
       "12   Jolin        K   9.8   9.1   9.9    A+       1\n",
       "13  Rajesh        M   8.9   9.1   9.3     A       1\n",
       "14    Riya        M   9.3   9.9  10.0     A       1\n",
       "15    Sana        V   9.9   9.3   9.2     A       0\n",
       "16    Mark        N   7.7   8.0   7.0     B       0"
      ]
     },
     "execution_count": 28,
     "metadata": {},
     "output_type": "execute_result"
    }
   ],
   "source": [
    "demodf=pd.read_csv(r\"C:\\Users\\ssaro\\Downloads\\grades_withnulls.csv\")\n",
    "demodf"
   ]
  },
  {
   "cell_type": "code",
   "execution_count": 30,
   "id": "67c99828",
   "metadata": {},
   "outputs": [
    {
     "data": {
      "text/plain": [
       "Names       0\n",
       "Initials    0\n",
       "SEM1        3\n",
       "SEM2        0\n",
       "SEM3        1\n",
       "Grade       0\n",
       "Placed      0\n",
       "dtype: int64"
      ]
     },
     "execution_count": 30,
     "metadata": {},
     "output_type": "execute_result"
    }
   ],
   "source": [
    "demodf.isnull().sum()"
   ]
  },
  {
   "cell_type": "code",
   "execution_count": 31,
   "id": "362fae7c",
   "metadata": {},
   "outputs": [
    {
     "data": {
      "text/html": [
       "<div>\n",
       "<style scoped>\n",
       "    .dataframe tbody tr th:only-of-type {\n",
       "        vertical-align: middle;\n",
       "    }\n",
       "\n",
       "    .dataframe tbody tr th {\n",
       "        vertical-align: top;\n",
       "    }\n",
       "\n",
       "    .dataframe thead th {\n",
       "        text-align: right;\n",
       "    }\n",
       "</style>\n",
       "<table border=\"1\" class=\"dataframe\">\n",
       "  <thead>\n",
       "    <tr style=\"text-align: right;\">\n",
       "      <th></th>\n",
       "      <th>Names</th>\n",
       "      <th>Initials</th>\n",
       "      <th>SEM1</th>\n",
       "      <th>SEM2</th>\n",
       "      <th>SEM3</th>\n",
       "      <th>Grade</th>\n",
       "      <th>Placed</th>\n",
       "    </tr>\n",
       "  </thead>\n",
       "  <tbody>\n",
       "    <tr>\n",
       "      <th>0</th>\n",
       "      <td>Joe</td>\n",
       "      <td>K</td>\n",
       "      <td>9.8</td>\n",
       "      <td>10.0</td>\n",
       "      <td>9.9</td>\n",
       "      <td>A+</td>\n",
       "      <td>1</td>\n",
       "    </tr>\n",
       "    <tr>\n",
       "      <th>1</th>\n",
       "      <td>Rajesh</td>\n",
       "      <td>M</td>\n",
       "      <td>8.9</td>\n",
       "      <td>9.1</td>\n",
       "      <td>9.3</td>\n",
       "      <td>A</td>\n",
       "      <td>1</td>\n",
       "    </tr>\n",
       "    <tr>\n",
       "      <th>2</th>\n",
       "      <td>Kissan</td>\n",
       "      <td>V</td>\n",
       "      <td>9.9</td>\n",
       "      <td>9.8</td>\n",
       "      <td>10.0</td>\n",
       "      <td>A</td>\n",
       "      <td>0</td>\n",
       "    </tr>\n",
       "    <tr>\n",
       "      <th>3</th>\n",
       "      <td>Mary</td>\n",
       "      <td>N</td>\n",
       "      <td>7.7</td>\n",
       "      <td>8.0</td>\n",
       "      <td>7.0</td>\n",
       "      <td>B</td>\n",
       "      <td>0</td>\n",
       "    </tr>\n",
       "    <tr>\n",
       "      <th>4</th>\n",
       "      <td>Jeen</td>\n",
       "      <td>K</td>\n",
       "      <td>9.8</td>\n",
       "      <td>9.1</td>\n",
       "      <td>9.9</td>\n",
       "      <td>A+</td>\n",
       "      <td>1</td>\n",
       "    </tr>\n",
       "    <tr>\n",
       "      <th>5</th>\n",
       "      <td>Raj</td>\n",
       "      <td>M</td>\n",
       "      <td>8.9</td>\n",
       "      <td>9.1</td>\n",
       "      <td>9.3</td>\n",
       "      <td>A</td>\n",
       "      <td>1</td>\n",
       "    </tr>\n",
       "    <tr>\n",
       "      <th>6</th>\n",
       "      <td>Hassan</td>\n",
       "      <td>V</td>\n",
       "      <td>9.9</td>\n",
       "      <td>9.0</td>\n",
       "      <td>9.2</td>\n",
       "      <td>A</td>\n",
       "      <td>1</td>\n",
       "    </tr>\n",
       "    <tr>\n",
       "      <th>7</th>\n",
       "      <td>Mari</td>\n",
       "      <td>N</td>\n",
       "      <td>7.7</td>\n",
       "      <td>8.0</td>\n",
       "      <td>7.1</td>\n",
       "      <td>B</td>\n",
       "      <td>1</td>\n",
       "    </tr>\n",
       "    <tr>\n",
       "      <th>8</th>\n",
       "      <td>Jess</td>\n",
       "      <td>K</td>\n",
       "      <td>7.0</td>\n",
       "      <td>9.1</td>\n",
       "      <td>9.9</td>\n",
       "      <td>A+</td>\n",
       "      <td>1</td>\n",
       "    </tr>\n",
       "    <tr>\n",
       "      <th>9</th>\n",
       "      <td>Rajini</td>\n",
       "      <td>M</td>\n",
       "      <td>7.0</td>\n",
       "      <td>9.1</td>\n",
       "      <td>9.3</td>\n",
       "      <td>A</td>\n",
       "      <td>0</td>\n",
       "    </tr>\n",
       "    <tr>\n",
       "      <th>10</th>\n",
       "      <td>Kiran</td>\n",
       "      <td>V</td>\n",
       "      <td>7.0</td>\n",
       "      <td>9.3</td>\n",
       "      <td>9.2</td>\n",
       "      <td>A</td>\n",
       "      <td>0</td>\n",
       "    </tr>\n",
       "    <tr>\n",
       "      <th>11</th>\n",
       "      <td>Maya</td>\n",
       "      <td>N</td>\n",
       "      <td>7.7</td>\n",
       "      <td>8.0</td>\n",
       "      <td>7.1</td>\n",
       "      <td>B</td>\n",
       "      <td>0</td>\n",
       "    </tr>\n",
       "    <tr>\n",
       "      <th>12</th>\n",
       "      <td>Jolin</td>\n",
       "      <td>K</td>\n",
       "      <td>9.8</td>\n",
       "      <td>9.1</td>\n",
       "      <td>9.9</td>\n",
       "      <td>A+</td>\n",
       "      <td>1</td>\n",
       "    </tr>\n",
       "    <tr>\n",
       "      <th>13</th>\n",
       "      <td>Rajesh</td>\n",
       "      <td>M</td>\n",
       "      <td>8.9</td>\n",
       "      <td>9.1</td>\n",
       "      <td>9.3</td>\n",
       "      <td>A</td>\n",
       "      <td>1</td>\n",
       "    </tr>\n",
       "    <tr>\n",
       "      <th>14</th>\n",
       "      <td>Riya</td>\n",
       "      <td>M</td>\n",
       "      <td>9.3</td>\n",
       "      <td>9.9</td>\n",
       "      <td>10.0</td>\n",
       "      <td>A</td>\n",
       "      <td>1</td>\n",
       "    </tr>\n",
       "    <tr>\n",
       "      <th>15</th>\n",
       "      <td>Sana</td>\n",
       "      <td>V</td>\n",
       "      <td>9.9</td>\n",
       "      <td>9.3</td>\n",
       "      <td>9.2</td>\n",
       "      <td>A</td>\n",
       "      <td>0</td>\n",
       "    </tr>\n",
       "    <tr>\n",
       "      <th>16</th>\n",
       "      <td>Mark</td>\n",
       "      <td>N</td>\n",
       "      <td>7.7</td>\n",
       "      <td>8.0</td>\n",
       "      <td>7.0</td>\n",
       "      <td>B</td>\n",
       "      <td>0</td>\n",
       "    </tr>\n",
       "  </tbody>\n",
       "</table>\n",
       "</div>"
      ],
      "text/plain": [
       "     Names Initials  SEM1  SEM2  SEM3 Grade  Placed\n",
       "0      Joe        K   9.8  10.0   9.9    A+       1\n",
       "1   Rajesh        M   8.9   9.1   9.3     A       1\n",
       "2   Kissan        V   9.9   9.8  10.0     A       0\n",
       "3     Mary        N   7.7   8.0   7.0     B       0\n",
       "4     Jeen        K   9.8   9.1   9.9    A+       1\n",
       "5      Raj        M   8.9   9.1   9.3     A       1\n",
       "6   Hassan        V   9.9   9.0   9.2     A       1\n",
       "7     Mari        N   7.7   8.0   7.1     B       1\n",
       "8     Jess        K   7.0   9.1   9.9    A+       1\n",
       "9   Rajini        M   7.0   9.1   9.3     A       0\n",
       "10   Kiran        V   7.0   9.3   9.2     A       0\n",
       "11    Maya        N   7.7   8.0   7.1     B       0\n",
       "12   Jolin        K   9.8   9.1   9.9    A+       1\n",
       "13  Rajesh        M   8.9   9.1   9.3     A       1\n",
       "14    Riya        M   9.3   9.9  10.0     A       1\n",
       "15    Sana        V   9.9   9.3   9.2     A       0\n",
       "16    Mark        N   7.7   8.0   7.0     B       0"
      ]
     },
     "execution_count": 31,
     "metadata": {},
     "output_type": "execute_result"
    }
   ],
   "source": [
    "demodf.fillna(7,inplace=True)\n",
    "demodf"
   ]
  },
  {
   "cell_type": "code",
   "execution_count": 33,
   "id": "032efd44",
   "metadata": {},
   "outputs": [
    {
     "data": {
      "text/html": [
       "<div>\n",
       "<style scoped>\n",
       "    .dataframe tbody tr th:only-of-type {\n",
       "        vertical-align: middle;\n",
       "    }\n",
       "\n",
       "    .dataframe tbody tr th {\n",
       "        vertical-align: top;\n",
       "    }\n",
       "\n",
       "    .dataframe thead th {\n",
       "        text-align: right;\n",
       "    }\n",
       "</style>\n",
       "<table border=\"1\" class=\"dataframe\">\n",
       "  <thead>\n",
       "    <tr style=\"text-align: right;\">\n",
       "      <th></th>\n",
       "      <th>Names</th>\n",
       "      <th>Initials</th>\n",
       "      <th>SEM1</th>\n",
       "      <th>SEM2</th>\n",
       "      <th>SEM3</th>\n",
       "      <th>Grade</th>\n",
       "      <th>Placed</th>\n",
       "    </tr>\n",
       "  </thead>\n",
       "  <tbody>\n",
       "    <tr>\n",
       "      <th>0</th>\n",
       "      <td>Joe</td>\n",
       "      <td>K</td>\n",
       "      <td>9.8</td>\n",
       "      <td>10.0</td>\n",
       "      <td>9.9</td>\n",
       "      <td>A+</td>\n",
       "      <td>1</td>\n",
       "    </tr>\n",
       "    <tr>\n",
       "      <th>1</th>\n",
       "      <td>Rajesh</td>\n",
       "      <td>M</td>\n",
       "      <td>8.9</td>\n",
       "      <td>9.1</td>\n",
       "      <td>9.3</td>\n",
       "      <td>A</td>\n",
       "      <td>1</td>\n",
       "    </tr>\n",
       "    <tr>\n",
       "      <th>2</th>\n",
       "      <td>Kissan</td>\n",
       "      <td>V</td>\n",
       "      <td>9.9</td>\n",
       "      <td>9.8</td>\n",
       "      <td>10.0</td>\n",
       "      <td>A</td>\n",
       "      <td>0</td>\n",
       "    </tr>\n",
       "    <tr>\n",
       "      <th>3</th>\n",
       "      <td>Mary</td>\n",
       "      <td>N</td>\n",
       "      <td>7.7</td>\n",
       "      <td>8.0</td>\n",
       "      <td>7.0</td>\n",
       "      <td>B</td>\n",
       "      <td>0</td>\n",
       "    </tr>\n",
       "    <tr>\n",
       "      <th>4</th>\n",
       "      <td>Jeen</td>\n",
       "      <td>K</td>\n",
       "      <td>9.8</td>\n",
       "      <td>9.1</td>\n",
       "      <td>9.9</td>\n",
       "      <td>A+</td>\n",
       "      <td>1</td>\n",
       "    </tr>\n",
       "    <tr>\n",
       "      <th>5</th>\n",
       "      <td>Raj</td>\n",
       "      <td>M</td>\n",
       "      <td>8.9</td>\n",
       "      <td>9.1</td>\n",
       "      <td>9.3</td>\n",
       "      <td>A</td>\n",
       "      <td>1</td>\n",
       "    </tr>\n",
       "    <tr>\n",
       "      <th>6</th>\n",
       "      <td>Hassan</td>\n",
       "      <td>V</td>\n",
       "      <td>9.9</td>\n",
       "      <td>9.0</td>\n",
       "      <td>9.2</td>\n",
       "      <td>A</td>\n",
       "      <td>1</td>\n",
       "    </tr>\n",
       "    <tr>\n",
       "      <th>7</th>\n",
       "      <td>Mari</td>\n",
       "      <td>N</td>\n",
       "      <td>7.7</td>\n",
       "      <td>8.0</td>\n",
       "      <td>7.1</td>\n",
       "      <td>B</td>\n",
       "      <td>1</td>\n",
       "    </tr>\n",
       "    <tr>\n",
       "      <th>8</th>\n",
       "      <td>Jess</td>\n",
       "      <td>K</td>\n",
       "      <td>7.0</td>\n",
       "      <td>9.1</td>\n",
       "      <td>9.9</td>\n",
       "      <td>A+</td>\n",
       "      <td>1</td>\n",
       "    </tr>\n",
       "    <tr>\n",
       "      <th>9</th>\n",
       "      <td>Rajini</td>\n",
       "      <td>M</td>\n",
       "      <td>7.0</td>\n",
       "      <td>9.1</td>\n",
       "      <td>9.3</td>\n",
       "      <td>A</td>\n",
       "      <td>0</td>\n",
       "    </tr>\n",
       "    <tr>\n",
       "      <th>10</th>\n",
       "      <td>Kiran</td>\n",
       "      <td>V</td>\n",
       "      <td>7.0</td>\n",
       "      <td>9.3</td>\n",
       "      <td>9.2</td>\n",
       "      <td>A</td>\n",
       "      <td>0</td>\n",
       "    </tr>\n",
       "    <tr>\n",
       "      <th>11</th>\n",
       "      <td>Maya</td>\n",
       "      <td>N</td>\n",
       "      <td>7.7</td>\n",
       "      <td>8.0</td>\n",
       "      <td>7.1</td>\n",
       "      <td>B</td>\n",
       "      <td>0</td>\n",
       "    </tr>\n",
       "    <tr>\n",
       "      <th>12</th>\n",
       "      <td>Jolin</td>\n",
       "      <td>K</td>\n",
       "      <td>9.8</td>\n",
       "      <td>9.1</td>\n",
       "      <td>9.9</td>\n",
       "      <td>A+</td>\n",
       "      <td>1</td>\n",
       "    </tr>\n",
       "    <tr>\n",
       "      <th>14</th>\n",
       "      <td>Riya</td>\n",
       "      <td>M</td>\n",
       "      <td>9.3</td>\n",
       "      <td>9.9</td>\n",
       "      <td>10.0</td>\n",
       "      <td>A</td>\n",
       "      <td>1</td>\n",
       "    </tr>\n",
       "    <tr>\n",
       "      <th>15</th>\n",
       "      <td>Sana</td>\n",
       "      <td>V</td>\n",
       "      <td>9.9</td>\n",
       "      <td>9.3</td>\n",
       "      <td>9.2</td>\n",
       "      <td>A</td>\n",
       "      <td>0</td>\n",
       "    </tr>\n",
       "    <tr>\n",
       "      <th>16</th>\n",
       "      <td>Mark</td>\n",
       "      <td>N</td>\n",
       "      <td>7.7</td>\n",
       "      <td>8.0</td>\n",
       "      <td>7.0</td>\n",
       "      <td>B</td>\n",
       "      <td>0</td>\n",
       "    </tr>\n",
       "  </tbody>\n",
       "</table>\n",
       "</div>"
      ],
      "text/plain": [
       "     Names Initials  SEM1  SEM2  SEM3 Grade  Placed\n",
       "0      Joe        K   9.8  10.0   9.9    A+       1\n",
       "1   Rajesh        M   8.9   9.1   9.3     A       1\n",
       "2   Kissan        V   9.9   9.8  10.0     A       0\n",
       "3     Mary        N   7.7   8.0   7.0     B       0\n",
       "4     Jeen        K   9.8   9.1   9.9    A+       1\n",
       "5      Raj        M   8.9   9.1   9.3     A       1\n",
       "6   Hassan        V   9.9   9.0   9.2     A       1\n",
       "7     Mari        N   7.7   8.0   7.1     B       1\n",
       "8     Jess        K   7.0   9.1   9.9    A+       1\n",
       "9   Rajini        M   7.0   9.1   9.3     A       0\n",
       "10   Kiran        V   7.0   9.3   9.2     A       0\n",
       "11    Maya        N   7.7   8.0   7.1     B       0\n",
       "12   Jolin        K   9.8   9.1   9.9    A+       1\n",
       "14    Riya        M   9.3   9.9  10.0     A       1\n",
       "15    Sana        V   9.9   9.3   9.2     A       0\n",
       "16    Mark        N   7.7   8.0   7.0     B       0"
      ]
     },
     "execution_count": 33,
     "metadata": {},
     "output_type": "execute_result"
    }
   ],
   "source": [
    "demodf.drop_duplicates(inplace=True)\n",
    "demodf"
   ]
  },
  {
   "cell_type": "code",
   "execution_count": 34,
   "id": "335c4f0b",
   "metadata": {},
   "outputs": [],
   "source": [
    "demodf['avarage']=(demodf['SEM1']+demodf['SEM2']+demodf['SEM3'])/3"
   ]
  },
  {
   "cell_type": "code",
   "execution_count": 35,
   "id": "00fdd837",
   "metadata": {},
   "outputs": [
    {
     "data": {
      "text/html": [
       "<div>\n",
       "<style scoped>\n",
       "    .dataframe tbody tr th:only-of-type {\n",
       "        vertical-align: middle;\n",
       "    }\n",
       "\n",
       "    .dataframe tbody tr th {\n",
       "        vertical-align: top;\n",
       "    }\n",
       "\n",
       "    .dataframe thead th {\n",
       "        text-align: right;\n",
       "    }\n",
       "</style>\n",
       "<table border=\"1\" class=\"dataframe\">\n",
       "  <thead>\n",
       "    <tr style=\"text-align: right;\">\n",
       "      <th></th>\n",
       "      <th>Names</th>\n",
       "      <th>Initials</th>\n",
       "      <th>SEM1</th>\n",
       "      <th>SEM2</th>\n",
       "      <th>SEM3</th>\n",
       "      <th>Grade</th>\n",
       "      <th>Placed</th>\n",
       "      <th>avarage</th>\n",
       "    </tr>\n",
       "  </thead>\n",
       "  <tbody>\n",
       "    <tr>\n",
       "      <th>0</th>\n",
       "      <td>Joe</td>\n",
       "      <td>K</td>\n",
       "      <td>9.8</td>\n",
       "      <td>10.0</td>\n",
       "      <td>9.9</td>\n",
       "      <td>A+</td>\n",
       "      <td>1</td>\n",
       "      <td>9.900000</td>\n",
       "    </tr>\n",
       "    <tr>\n",
       "      <th>1</th>\n",
       "      <td>Rajesh</td>\n",
       "      <td>M</td>\n",
       "      <td>8.9</td>\n",
       "      <td>9.1</td>\n",
       "      <td>9.3</td>\n",
       "      <td>A</td>\n",
       "      <td>1</td>\n",
       "      <td>9.100000</td>\n",
       "    </tr>\n",
       "    <tr>\n",
       "      <th>2</th>\n",
       "      <td>Kissan</td>\n",
       "      <td>V</td>\n",
       "      <td>9.9</td>\n",
       "      <td>9.8</td>\n",
       "      <td>10.0</td>\n",
       "      <td>A</td>\n",
       "      <td>0</td>\n",
       "      <td>9.900000</td>\n",
       "    </tr>\n",
       "    <tr>\n",
       "      <th>3</th>\n",
       "      <td>Mary</td>\n",
       "      <td>N</td>\n",
       "      <td>7.7</td>\n",
       "      <td>8.0</td>\n",
       "      <td>7.0</td>\n",
       "      <td>B</td>\n",
       "      <td>0</td>\n",
       "      <td>7.566667</td>\n",
       "    </tr>\n",
       "    <tr>\n",
       "      <th>4</th>\n",
       "      <td>Jeen</td>\n",
       "      <td>K</td>\n",
       "      <td>9.8</td>\n",
       "      <td>9.1</td>\n",
       "      <td>9.9</td>\n",
       "      <td>A+</td>\n",
       "      <td>1</td>\n",
       "      <td>9.600000</td>\n",
       "    </tr>\n",
       "    <tr>\n",
       "      <th>5</th>\n",
       "      <td>Raj</td>\n",
       "      <td>M</td>\n",
       "      <td>8.9</td>\n",
       "      <td>9.1</td>\n",
       "      <td>9.3</td>\n",
       "      <td>A</td>\n",
       "      <td>1</td>\n",
       "      <td>9.100000</td>\n",
       "    </tr>\n",
       "    <tr>\n",
       "      <th>6</th>\n",
       "      <td>Hassan</td>\n",
       "      <td>V</td>\n",
       "      <td>9.9</td>\n",
       "      <td>9.0</td>\n",
       "      <td>9.2</td>\n",
       "      <td>A</td>\n",
       "      <td>1</td>\n",
       "      <td>9.366667</td>\n",
       "    </tr>\n",
       "    <tr>\n",
       "      <th>7</th>\n",
       "      <td>Mari</td>\n",
       "      <td>N</td>\n",
       "      <td>7.7</td>\n",
       "      <td>8.0</td>\n",
       "      <td>7.1</td>\n",
       "      <td>B</td>\n",
       "      <td>1</td>\n",
       "      <td>7.600000</td>\n",
       "    </tr>\n",
       "    <tr>\n",
       "      <th>8</th>\n",
       "      <td>Jess</td>\n",
       "      <td>K</td>\n",
       "      <td>7.0</td>\n",
       "      <td>9.1</td>\n",
       "      <td>9.9</td>\n",
       "      <td>A+</td>\n",
       "      <td>1</td>\n",
       "      <td>8.666667</td>\n",
       "    </tr>\n",
       "    <tr>\n",
       "      <th>9</th>\n",
       "      <td>Rajini</td>\n",
       "      <td>M</td>\n",
       "      <td>7.0</td>\n",
       "      <td>9.1</td>\n",
       "      <td>9.3</td>\n",
       "      <td>A</td>\n",
       "      <td>0</td>\n",
       "      <td>8.466667</td>\n",
       "    </tr>\n",
       "    <tr>\n",
       "      <th>10</th>\n",
       "      <td>Kiran</td>\n",
       "      <td>V</td>\n",
       "      <td>7.0</td>\n",
       "      <td>9.3</td>\n",
       "      <td>9.2</td>\n",
       "      <td>A</td>\n",
       "      <td>0</td>\n",
       "      <td>8.500000</td>\n",
       "    </tr>\n",
       "    <tr>\n",
       "      <th>11</th>\n",
       "      <td>Maya</td>\n",
       "      <td>N</td>\n",
       "      <td>7.7</td>\n",
       "      <td>8.0</td>\n",
       "      <td>7.1</td>\n",
       "      <td>B</td>\n",
       "      <td>0</td>\n",
       "      <td>7.600000</td>\n",
       "    </tr>\n",
       "    <tr>\n",
       "      <th>12</th>\n",
       "      <td>Jolin</td>\n",
       "      <td>K</td>\n",
       "      <td>9.8</td>\n",
       "      <td>9.1</td>\n",
       "      <td>9.9</td>\n",
       "      <td>A+</td>\n",
       "      <td>1</td>\n",
       "      <td>9.600000</td>\n",
       "    </tr>\n",
       "    <tr>\n",
       "      <th>14</th>\n",
       "      <td>Riya</td>\n",
       "      <td>M</td>\n",
       "      <td>9.3</td>\n",
       "      <td>9.9</td>\n",
       "      <td>10.0</td>\n",
       "      <td>A</td>\n",
       "      <td>1</td>\n",
       "      <td>9.733333</td>\n",
       "    </tr>\n",
       "    <tr>\n",
       "      <th>15</th>\n",
       "      <td>Sana</td>\n",
       "      <td>V</td>\n",
       "      <td>9.9</td>\n",
       "      <td>9.3</td>\n",
       "      <td>9.2</td>\n",
       "      <td>A</td>\n",
       "      <td>0</td>\n",
       "      <td>9.466667</td>\n",
       "    </tr>\n",
       "    <tr>\n",
       "      <th>16</th>\n",
       "      <td>Mark</td>\n",
       "      <td>N</td>\n",
       "      <td>7.7</td>\n",
       "      <td>8.0</td>\n",
       "      <td>7.0</td>\n",
       "      <td>B</td>\n",
       "      <td>0</td>\n",
       "      <td>7.566667</td>\n",
       "    </tr>\n",
       "  </tbody>\n",
       "</table>\n",
       "</div>"
      ],
      "text/plain": [
       "     Names Initials  SEM1  SEM2  SEM3 Grade  Placed   avarage\n",
       "0      Joe        K   9.8  10.0   9.9    A+       1  9.900000\n",
       "1   Rajesh        M   8.9   9.1   9.3     A       1  9.100000\n",
       "2   Kissan        V   9.9   9.8  10.0     A       0  9.900000\n",
       "3     Mary        N   7.7   8.0   7.0     B       0  7.566667\n",
       "4     Jeen        K   9.8   9.1   9.9    A+       1  9.600000\n",
       "5      Raj        M   8.9   9.1   9.3     A       1  9.100000\n",
       "6   Hassan        V   9.9   9.0   9.2     A       1  9.366667\n",
       "7     Mari        N   7.7   8.0   7.1     B       1  7.600000\n",
       "8     Jess        K   7.0   9.1   9.9    A+       1  8.666667\n",
       "9   Rajini        M   7.0   9.1   9.3     A       0  8.466667\n",
       "10   Kiran        V   7.0   9.3   9.2     A       0  8.500000\n",
       "11    Maya        N   7.7   8.0   7.1     B       0  7.600000\n",
       "12   Jolin        K   9.8   9.1   9.9    A+       1  9.600000\n",
       "14    Riya        M   9.3   9.9  10.0     A       1  9.733333\n",
       "15    Sana        V   9.9   9.3   9.2     A       0  9.466667\n",
       "16    Mark        N   7.7   8.0   7.0     B       0  7.566667"
      ]
     },
     "execution_count": 35,
     "metadata": {},
     "output_type": "execute_result"
    }
   ],
   "source": [
    "demodf"
   ]
  },
  {
   "cell_type": "code",
   "execution_count": 37,
   "id": "4ba1c3e1",
   "metadata": {},
   "outputs": [
    {
     "data": {
      "text/html": [
       "<div>\n",
       "<style scoped>\n",
       "    .dataframe tbody tr th:only-of-type {\n",
       "        vertical-align: middle;\n",
       "    }\n",
       "\n",
       "    .dataframe tbody tr th {\n",
       "        vertical-align: top;\n",
       "    }\n",
       "\n",
       "    .dataframe thead th {\n",
       "        text-align: right;\n",
       "    }\n",
       "</style>\n",
       "<table border=\"1\" class=\"dataframe\">\n",
       "  <thead>\n",
       "    <tr style=\"text-align: right;\">\n",
       "      <th></th>\n",
       "      <th>Names</th>\n",
       "      <th>Grade</th>\n",
       "    </tr>\n",
       "  </thead>\n",
       "  <tbody>\n",
       "    <tr>\n",
       "      <th>0</th>\n",
       "      <td>Joe</td>\n",
       "      <td>A+</td>\n",
       "    </tr>\n",
       "    <tr>\n",
       "      <th>1</th>\n",
       "      <td>Rajesh</td>\n",
       "      <td>A</td>\n",
       "    </tr>\n",
       "    <tr>\n",
       "      <th>2</th>\n",
       "      <td>Kissan</td>\n",
       "      <td>A</td>\n",
       "    </tr>\n",
       "    <tr>\n",
       "      <th>3</th>\n",
       "      <td>Mary</td>\n",
       "      <td>B</td>\n",
       "    </tr>\n",
       "    <tr>\n",
       "      <th>4</th>\n",
       "      <td>Jeen</td>\n",
       "      <td>A+</td>\n",
       "    </tr>\n",
       "  </tbody>\n",
       "</table>\n",
       "</div>"
      ],
      "text/plain": [
       "    Names Grade\n",
       "0     Joe    A+\n",
       "1  Rajesh     A\n",
       "2  Kissan     A\n",
       "3    Mary     B\n",
       "4    Jeen    A+"
      ]
     },
     "execution_count": 37,
     "metadata": {},
     "output_type": "execute_result"
    }
   ],
   "source": [
    "#access\n",
    "demodf.loc[0:4,['Names','Grade']]"
   ]
  },
  {
   "cell_type": "code",
   "execution_count": null,
   "id": "ebf37544",
   "metadata": {},
   "outputs": [],
   "source": []
  }
 ],
 "metadata": {
  "kernelspec": {
   "display_name": "Python 3 (ipykernel)",
   "language": "python",
   "name": "python3"
  },
  "language_info": {
   "codemirror_mode": {
    "name": "ipython",
    "version": 3
   },
   "file_extension": ".py",
   "mimetype": "text/x-python",
   "name": "python",
   "nbconvert_exporter": "python",
   "pygments_lexer": "ipython3",
   "version": "3.9.13"
  }
 },
 "nbformat": 4,
 "nbformat_minor": 5
}
