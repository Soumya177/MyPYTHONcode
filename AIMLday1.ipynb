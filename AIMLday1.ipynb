{
 "cells": [
  {
   "cell_type": "markdown",
   "id": "54e63adc",
   "metadata": {},
   "source": [
    "# Basics"
   ]
  },
  {
   "cell_type": "code",
   "execution_count": 2,
   "id": "d8e48426",
   "metadata": {},
   "outputs": [
    {
     "name": "stdout",
     "output_type": "stream",
     "text": [
      "a=24\n"
     ]
    }
   ],
   "source": [
    "print('a=24')"
   ]
  },
  {
   "cell_type": "code",
   "execution_count": 3,
   "id": "c9c9e1d6",
   "metadata": {},
   "outputs": [
    {
     "name": "stdout",
     "output_type": "stream",
     "text": [
      "I am 24 years old\n"
     ]
    }
   ],
   "source": [
    "a = 24\n",
    "print(f\"I am {a} years old\")\n"
   ]
  },
  {
   "cell_type": "code",
   "execution_count": 4,
   "id": "8aa2700c",
   "metadata": {},
   "outputs": [
    {
     "name": "stdout",
     "output_type": "stream",
     "text": [
      "I am 24 year old\n"
     ]
    }
   ],
   "source": [
    "print(\"I am\",a,\"year old\")\n"
   ]
  },
  {
   "cell_type": "code",
   "execution_count": 5,
   "id": "501544d1",
   "metadata": {},
   "outputs": [
    {
     "name": "stdout",
     "output_type": "stream",
     "text": [
      "59\n"
     ]
    }
   ],
   "source": [
    "a=24\n",
    "b=23\n",
    "c=12\n",
    "print(a+b+c)"
   ]
  },
  {
   "cell_type": "code",
   "execution_count": 6,
   "id": "1b533ed5",
   "metadata": {},
   "outputs": [
    {
     "name": "stdout",
     "output_type": "stream",
     "text": [
      "enter a number21\n",
      "i am 21 years old\n"
     ]
    }
   ],
   "source": [
    "inp=input(\"enter a number\")\n",
    "print(\"i am\",inp,\"years old\")"
   ]
  },
  {
   "cell_type": "code",
   "execution_count": 8,
   "id": "3dd29e1a",
   "metadata": {},
   "outputs": [
    {
     "name": "stdout",
     "output_type": "stream",
     "text": [
      "enter first number:25\n",
      "enter second number:5\n",
      "5.0\n"
     ]
    }
   ],
   "source": [
    "num1=int(input(\"enter first number:\"))\n",
    "num2=int(input(\"enter second number:\"))\n",
    "s=num1/num2\n",
    "print(s)"
   ]
  },
  {
   "cell_type": "code",
   "execution_count": 9,
   "id": "3c3b84fe",
   "metadata": {},
   "outputs": [
    {
     "name": "stdout",
     "output_type": "stream",
     "text": [
      "enter first number:25\n",
      "enter second number:5\n",
      "5\n"
     ]
    }
   ],
   "source": [
    "num1=int(input(\"enter first number:\"))\n",
    "num2=int(input(\"enter second number:\"))\n",
    "s=num1//num2\n",
    "print(s)"
   ]
  },
  {
   "cell_type": "code",
   "execution_count": 11,
   "id": "0d0cda31",
   "metadata": {},
   "outputs": [
    {
     "name": "stdout",
     "output_type": "stream",
     "text": [
      "enter first number:25\n",
      "enter second number:2\n",
      "the value is  23\n"
     ]
    }
   ],
   "source": [
    "num1=int(input(\"enter first number:\"))\n",
    "num2=int(input(\"enter second number:\"))\n",
    "s=num1-num225\n",
    "print(\"the value is \",s)"
   ]
  },
  {
   "cell_type": "code",
   "execution_count": 12,
   "id": "235321a2",
   "metadata": {},
   "outputs": [
    {
     "name": "stdout",
     "output_type": "stream",
     "text": [
      "enter first number:25\n",
      "enter second number:9\n",
      "225\n"
     ]
    }
   ],
   "source": [
    "num1=int(input(\"enter first number:\"))\n",
    "num2=int(input(\"enter second number:\"))\n",
    "s=num1*num2\n",
    "print(s)"
   ]
  },
  {
   "cell_type": "code",
   "execution_count": 13,
   "id": "1c9c382f",
   "metadata": {},
   "outputs": [
    {
     "name": "stdout",
     "output_type": "stream",
     "text": [
      "enter first number:25\n",
      "enter second number:2\n",
      "1\n"
     ]
    }
   ],
   "source": [
    "num1=int(input(\"enter first number:\"))\n",
    "num2=int(input(\"enter second number:\"))\n",
    "s=num1%num2\n",
    "print(s)"
   ]
  },
  {
   "cell_type": "code",
   "execution_count": 3,
   "id": "a65f957d",
   "metadata": {},
   "outputs": [
    {
     "name": "stdout",
     "output_type": "stream",
     "text": [
      "enter the password:soumya\n",
      "enter the code:3625\n",
      "welcome\n"
     ]
    }
   ],
   "source": [
    "password=\"soumya\"\n",
    "code=3625\n",
    "p=input(\"enter the password:\")\n",
    "ps=int(input(\"enter the code:\"))\n",
    "if p==password and ps==code:\n",
    "    print(\"welcome\")\n",
    "else:\n",
    "    print(\"try again\")"
   ]
  },
  {
   "cell_type": "code",
   "execution_count": 4,
   "id": "f4805fd3",
   "metadata": {},
   "outputs": [
    {
     "name": "stdout",
     "output_type": "stream",
     "text": [
      "enter the password:soumya\n",
      "enter the code:895\n",
      "welcome\n"
     ]
    }
   ],
   "source": [
    "password=\"soumya\"\n",
    "code=3625\n",
    "p=input(\"enter the password:\")\n",
    "ps=int(input(\"enter the code:\"))\n",
    "if p==password or ps==code:\n",
    "    print(\"welcome\")\n",
    "else:\n",
    "    print(\"try again\")"
   ]
  },
  {
   "cell_type": "code",
   "execution_count": 14,
   "id": "69e92fd9",
   "metadata": {},
   "outputs": [
    {
     "name": "stdout",
     "output_type": "stream",
     "text": [
      "hello\n",
      "you\n",
      "you\n"
     ]
    },
    {
     "data": {
      "text/plain": [
       "18"
      ]
     },
     "execution_count": 14,
     "metadata": {},
     "output_type": "execute_result"
    }
   ],
   "source": [
    "s=\"hello how are you?\"\n",
    "print(s[0:5])\n",
    "print(s[14:17])  #+ve index\n",
    "print(s[-4:-1])  #-ve index\n",
    "len(s)"
   ]
  },
  {
   "cell_type": "code",
   "execution_count": 2,
   "id": "2640d23e",
   "metadata": {},
   "outputs": [
    {
     "name": "stdout",
     "output_type": "stream",
     "text": [
      "h\n",
      "e\n",
      "l\n",
      "l\n",
      "o\n"
     ]
    }
   ],
   "source": [
    "s=\"hello how are you\"\n",
    "for i in range(0,5):\n",
    "    print(s[i])"
   ]
  },
  {
   "cell_type": "code",
   "execution_count": 12,
   "id": "c27f4122",
   "metadata": {},
   "outputs": [
    {
     "name": "stdout",
     "output_type": "stream",
     "text": [
      "120\n"
     ]
    }
   ],
   "source": [
    "s=[1,2,3,4,5,6]\n",
    "fact=1\n",
    "i=1\n",
    "\n",
    "while i<=5:\n",
    "    fact=fact*i\n",
    "    i=i+1\n",
    "print(fact)   "
   ]
  },
  {
   "cell_type": "code",
   "execution_count": 1,
   "id": "22e1c6c4",
   "metadata": {},
   "outputs": [
    {
     "name": "stdout",
     "output_type": "stream",
     "text": [
      "0\n",
      "1\n",
      "3\n",
      "6\n",
      "10\n",
      "15\n"
     ]
    }
   ],
   "source": [
    "s=0\n",
    "i=0\n",
    "while i<6:\n",
    "    s+=i\n",
    "    i+=1\n",
    "    print(s)"
   ]
  },
  {
   "cell_type": "markdown",
   "id": "f06ac6ba",
   "metadata": {},
   "source": [
    "# collections\n"
   ]
  },
  {
   "cell_type": "code",
   "execution_count": 20,
   "id": "0388fefa",
   "metadata": {},
   "outputs": [
    {
     "name": "stdout",
     "output_type": "stream",
     "text": [
      "[2, 8, 2.8, 'like', 8, True]\n",
      "[2, 8, 2.8, 'like', 8, 'yash', True, 'chummi']\n"
     ]
    }
   ],
   "source": [
    "#muteable  #heterogenuous accepts duplicate \n",
    "list1=[2,8,2.8,'like',8,True]\n",
    "print(list1)\n",
    "list1.append('chummi')\n",
    "list1.insert(5,'yash')\n",
    "print(list1)"
   ]
  },
  {
   "cell_type": "code",
   "execution_count": 21,
   "id": "88258512",
   "metadata": {},
   "outputs": [
    {
     "data": {
      "text/plain": [
       "2.8"
      ]
     },
     "execution_count": 21,
     "metadata": {},
     "output_type": "execute_result"
    }
   ],
   "source": [
    "list1.pop(2)"
   ]
  },
  {
   "cell_type": "code",
   "execution_count": 22,
   "id": "49f07fbb",
   "metadata": {},
   "outputs": [
    {
     "name": "stdout",
     "output_type": "stream",
     "text": [
      "[]\n"
     ]
    }
   ],
   "source": [
    "list1.clear()\n",
    "print(list1)"
   ]
  },
  {
   "cell_type": "code",
   "execution_count": 23,
   "id": "b1be727e",
   "metadata": {},
   "outputs": [
    {
     "name": "stdout",
     "output_type": "stream",
     "text": [
      "[52, 42, 63, 85, 52, 63, 8, 6, 963]\n"
     ]
    }
   ],
   "source": [
    "list2=[52,42,63,85]\n",
    "list3=[52,63,8,6,963]\n",
    "print(list2+list3)"
   ]
  },
  {
   "cell_type": "code",
   "execution_count": 25,
   "id": "822c490b",
   "metadata": {},
   "outputs": [
    {
     "data": {
      "text/plain": [
       "[63, 52, 51, 25]"
      ]
     },
     "execution_count": 25,
     "metadata": {},
     "output_type": "execute_result"
    }
   ],
   "source": [
    "list5=[63,52,25,51]\n",
    "list5.sort(reverse=True)\n",
    "list5"
   ]
  },
  {
   "cell_type": "code",
   "execution_count": 27,
   "id": "3e98bbe5",
   "metadata": {},
   "outputs": [
    {
     "data": {
      "text/plain": [
       "['orange', 'chikku', 'banana', 'apple']"
      ]
     },
     "execution_count": 27,
     "metadata": {},
     "output_type": "execute_result"
    }
   ],
   "source": [
    "list6=[\"apple\",\"banana\",\"chikku\",\"orange\"]\n",
    "list6.sort(reverse=True)\n",
    "list6"
   ]
  },
  {
   "cell_type": "code",
   "execution_count": 33,
   "id": "8a86d22c",
   "metadata": {},
   "outputs": [
    {
     "data": {
      "text/plain": [
       "[19, 25, 25, 35, 78, 91]"
      ]
     },
     "execution_count": 33,
     "metadata": {},
     "output_type": "execute_result"
    }
   ],
   "source": [
    "list6=[19,35,25,91,25,78]  #changes are not reflected in original list\n",
    "list7=sorted(list6)\n",
    "list7"
   ]
  },
  {
   "cell_type": "code",
   "execution_count": 37,
   "id": "8e8b5ba6",
   "metadata": {},
   "outputs": [
    {
     "name": "stdout",
     "output_type": "stream",
     "text": [
      "361\n",
      "1225\n",
      "625\n",
      "8281\n",
      "625\n",
      "6084\n"
     ]
    }
   ],
   "source": [
    "for i in list6:\n",
    "    print(i*i)"
   ]
  },
  {
   "cell_type": "code",
   "execution_count": 38,
   "id": "89d38a4a",
   "metadata": {},
   "outputs": [
    {
     "data": {
      "text/plain": [
       "[361, 1225, 625, 8281, 625, 6084]"
      ]
     },
     "execution_count": 38,
     "metadata": {},
     "output_type": "execute_result"
    }
   ],
   "source": [
    "listnew=[i*i for i in list6]  #output for list name\n",
    "listnew"
   ]
  },
  {
   "cell_type": "code",
   "execution_count": 39,
   "id": "d05d1f91",
   "metadata": {},
   "outputs": [
    {
     "data": {
      "text/plain": [
       "[38, 70, 50, 182, 50, 156]"
      ]
     },
     "execution_count": 39,
     "metadata": {},
     "output_type": "execute_result"
    }
   ],
   "source": [
    "listnew=[i*2 for i in list6]  #output for list name\n",
    "listnew"
   ]
  },
  {
   "cell_type": "code",
   "execution_count": 6,
   "id": "6be908d3",
   "metadata": {},
   "outputs": [
    {
     "data": {
      "text/plain": [
       "[5929, 9801, 10404]"
      ]
     },
     "execution_count": 6,
     "metadata": {},
     "output_type": "execute_result"
    }
   ],
   "source": [
    "list6=[77,12,33,99,102]\n",
    "s=[]\n",
    "for i in list6:\n",
    "    if i>50:\n",
    "        s.append(i*i)\n",
    "s        "
   ]
  },
  {
   "cell_type": "code",
   "execution_count": 7,
   "id": "a887d135",
   "metadata": {},
   "outputs": [
    {
     "data": {
      "text/plain": [
       "[5929, 9801, 10404]"
      ]
     },
     "execution_count": 7,
     "metadata": {},
     "output_type": "execute_result"
    }
   ],
   "source": [
    "slc=[i*i for i in list6 if i>50]\n",
    "slc"
   ]
  },
  {
   "cell_type": "code",
   "execution_count": 8,
   "id": "d079e5de",
   "metadata": {},
   "outputs": [],
   "source": [
    "marks=[92,78,89,98,100]\n",
    "grades=[]\n",
    "for i in marks:\n",
    "    if i>90:\n",
    "        grades.append('A')  #body of if\n",
    "    else:\n",
    "        grades.append('B')   #body of else"
   ]
  },
  {
   "cell_type": "code",
   "execution_count": 9,
   "id": "75881e2a",
   "metadata": {},
   "outputs": [
    {
     "data": {
      "text/plain": [
       "['A', 'B', 'B', 'A', 'A']"
      ]
     },
     "execution_count": 9,
     "metadata": {},
     "output_type": "execute_result"
    }
   ],
   "source": [
    "grades"
   ]
  },
  {
   "cell_type": "code",
   "execution_count": 14,
   "id": "6f3f7626",
   "metadata": {},
   "outputs": [
    {
     "data": {
      "text/plain": [
       "['A', 'B', 'B', 'A', 'A']"
      ]
     },
     "execution_count": 14,
     "metadata": {},
     "output_type": "execute_result"
    }
   ],
   "source": [
    "gradeslc=[\"A\" if i>90 else \"B\" for i in marks]\n",
    "gradeslc"
   ]
  },
  {
   "cell_type": "code",
   "execution_count": 15,
   "id": "32fb866a",
   "metadata": {},
   "outputs": [
    {
     "data": {
      "text/plain": [
       "[18050.0, 70200.0, 9500.0, 50400.0, 42750.0, 11400.0]"
      ]
     },
     "execution_count": 15,
     "metadata": {},
     "output_type": "execute_result"
    }
   ],
   "source": [
    "sal=[19000,78000,10000,56000,45000,12000]\n",
    "final=[]\n",
    "for i in sal:\n",
    "    if i>50000:\n",
    "        tax=i*0.1\n",
    "        total=i-tax\n",
    "        final.append(total)\n",
    "    else:\n",
    "        tax=i*0.05\n",
    "        total=i-tax\n",
    "        final.append(total)\n",
    "final        "
   ]
  },
  {
   "cell_type": "code",
   "execution_count": 17,
   "id": "80656574",
   "metadata": {},
   "outputs": [
    {
     "data": {
      "text/plain": [
       "[18050.0, 77999.9, 9500.0, 55999.9, 42750.0, 11400.0]"
      ]
     },
     "execution_count": 17,
     "metadata": {},
     "output_type": "execute_result"
    }
   ],
   "source": [
    "finalslc=[i-1*0.1 if i>50000 else i-i*0.05 for i in sal]\n",
    "finalslc"
   ]
  },
  {
   "cell_type": "code",
   "execution_count": 18,
   "id": "602de32a",
   "metadata": {},
   "outputs": [
    {
     "name": "stdout",
     "output_type": "stream",
     "text": [
      "87\n",
      "124\n",
      "115\n",
      "167\n",
      "70\n"
     ]
    }
   ],
   "source": [
    "list2=[25,45,63,98,58]\n",
    "list3=[62,79,52,69,12]\n",
    "for i,j in zip(list2,list3):\n",
    "    print(i+j)"
   ]
  },
  {
   "cell_type": "code",
   "execution_count": 19,
   "id": "03605789",
   "metadata": {},
   "outputs": [
    {
     "name": "stdout",
     "output_type": "stream",
     "text": [
      "90\n",
      "45\n",
      "3\n"
     ]
    }
   ],
   "source": [
    "tup2=(90,45,67)\n",
    "print(max(tup2))\n",
    "print(min(tup2))\n",
    "print(len(tup2))"
   ]
  },
  {
   "cell_type": "code",
   "execution_count": 22,
   "id": "a09fda66",
   "metadata": {},
   "outputs": [
    {
     "data": {
      "text/plain": [
       "[34, 55, 'hello', 'hi']"
      ]
     },
     "execution_count": 22,
     "metadata": {},
     "output_type": "execute_result"
    }
   ],
   "source": [
    "tup1=[34,55,'hello','hi']\n",
    "tup1"
   ]
  },
  {
   "cell_type": "code",
   "execution_count": 23,
   "id": "04289c7b",
   "metadata": {},
   "outputs": [
    {
     "data": {
      "text/plain": [
       "[45, 67, 90]"
      ]
     },
     "execution_count": 23,
     "metadata": {},
     "output_type": "execute_result"
    }
   ],
   "source": [
    "tup3=sorted(tup2)\n",
    "tup3"
   ]
  },
  {
   "cell_type": "markdown",
   "id": "edb3b852",
   "metadata": {},
   "source": [
    "# Dictionary"
   ]
  },
  {
   "cell_type": "code",
   "execution_count": 24,
   "id": "dad46b97",
   "metadata": {},
   "outputs": [
    {
     "data": {
      "text/plain": [
       "{1: 'ammu', 2: 'yashu', 3: 'chottu'}"
      ]
     },
     "execution_count": 24,
     "metadata": {},
     "output_type": "execute_result"
    }
   ],
   "source": [
    "dict1={1:\"ammu\",2:\"yashu\",3:\"chottu\"}\n",
    "dict1"
   ]
  },
  {
   "cell_type": "code",
   "execution_count": 28,
   "id": "ad97ed2c",
   "metadata": {},
   "outputs": [
    {
     "data": {
      "text/plain": [
       "{1: 'yashu', 3: 'chottu'}"
      ]
     },
     "execution_count": 28,
     "metadata": {},
     "output_type": "execute_result"
    }
   ],
   "source": [
    "dict1={1:\"yashu\",1:\"yashu\",3:\"chottu\"}\n",
    "dict1"
   ]
  },
  {
   "cell_type": "code",
   "execution_count": 32,
   "id": "15efc1f9",
   "metadata": {},
   "outputs": [
    {
     "name": "stdout",
     "output_type": "stream",
     "text": [
      "['reading', 'cooking', 'playing']\n"
     ]
    }
   ],
   "source": [
    "dict2={'name':\"chummi\",\"hobbies\":['reading','cooking','playing']}\n",
    "print(dict2['hobbies'])"
   ]
  },
  {
   "cell_type": "code",
   "execution_count": 33,
   "id": "7b12c37e",
   "metadata": {},
   "outputs": [
    {
     "data": {
      "text/plain": [
       "dict_keys(['name', 'hobbies'])"
      ]
     },
     "execution_count": 33,
     "metadata": {},
     "output_type": "execute_result"
    }
   ],
   "source": [
    "dict2.keys()"
   ]
  },
  {
   "cell_type": "code",
   "execution_count": 35,
   "id": "fded5dfa",
   "metadata": {},
   "outputs": [
    {
     "data": {
      "text/plain": [
       "dict_values(['chummi', ['reading', 'cooking', 'playing']])"
      ]
     },
     "execution_count": 35,
     "metadata": {},
     "output_type": "execute_result"
    }
   ],
   "source": [
    "dict2.values()"
   ]
  },
  {
   "cell_type": "code",
   "execution_count": 36,
   "id": "7e89be77",
   "metadata": {},
   "outputs": [
    {
     "data": {
      "text/plain": [
       "dict_items([('name', 'chummi'), ('hobbies', ['reading', 'cooking', 'playing'])])"
      ]
     },
     "execution_count": 36,
     "metadata": {},
     "output_type": "execute_result"
    }
   ],
   "source": [
    "dict2.items()"
   ]
  },
  {
   "cell_type": "code",
   "execution_count": 46,
   "id": "27a7657e",
   "metadata": {},
   "outputs": [
    {
     "name": "stdout",
     "output_type": "stream",
     "text": [
      "cooking\n"
     ]
    }
   ],
   "source": [
    "print(dict2['hobbies'][1])"
   ]
  },
  {
   "cell_type": "code",
   "execution_count": 45,
   "id": "5fe90bbf",
   "metadata": {},
   "outputs": [
    {
     "data": {
      "text/plain": [
       "[6, 5, 58, 85, 85]"
      ]
     },
     "execution_count": 45,
     "metadata": {},
     "output_type": "execute_result"
    }
   ],
   "source": [
    "\n",
    "#set\n",
    "s1=[6,5,58,85,85]\n",
    "s1"
   ]
  },
  {
   "cell_type": "code",
   "execution_count": null,
   "id": "e145bcdd",
   "metadata": {},
   "outputs": [],
   "source": []
  }
 ],
 "metadata": {
  "kernelspec": {
   "display_name": "Python 3 (ipykernel)",
   "language": "python",
   "name": "python3"
  },
  "language_info": {
   "codemirror_mode": {
    "name": "ipython",
    "version": 3
   },
   "file_extension": ".py",
   "mimetype": "text/x-python",
   "name": "python",
   "nbconvert_exporter": "python",
   "pygments_lexer": "ipython3",
   "version": "3.9.13"
  }
 },
 "nbformat": 4,
 "nbformat_minor": 5
}
